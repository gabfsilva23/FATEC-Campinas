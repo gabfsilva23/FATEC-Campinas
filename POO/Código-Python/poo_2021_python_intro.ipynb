{
  "nbformat": 4,
  "nbformat_minor": 0,
  "metadata": {
    "kernelspec": {
      "display_name": "Python 3",
      "language": "python",
      "name": "python3"
    },
    "language_info": {
      "codemirror_mode": {
        "name": "ipython",
        "version": 3
      },
      "file_extension": ".py",
      "mimetype": "text/x-python",
      "name": "python",
      "nbconvert_exporter": "python",
      "pygments_lexer": "ipython3",
      "version": "3.6.4"
    },
    "colab": {
      "name": "python-intro.ipynb",
      "provenance": [],
      "collapsed_sections": [
        "3Vftr1oRNPc9",
        "TP8LDEY4NPdN",
        "W3YsB3g4NPdm",
        "D9TVXQRyNPeA",
        "_fAXXDsFNPeS",
        "4lycswIvNPeV",
        "rJ1tb6GwNPen"
      ]
    }
  },
  "cells": [
    {
      "cell_type": "markdown",
      "metadata": {
        "id": "eM1mYTCINPam"
      },
      "source": [
        "# Introdução ao Python da [Data School](http://www.dataschool.io/)\n",
        "\n",
        "**Related:** [GitHub repository](https://github.com/justmarkham/python-reference)\n",
        "\n",
        "## Conteúdo\n",
        "\n",
        "1. Imports\n",
        "2. Tipos de dados\n",
        "3. Operações matemáticas\n",
        "4. Comparações\n",
        "5. Condicionais\n",
        "6. Listas\n",
        "7. Tuplas\n",
        "8. Strings\n",
        "9. Dicionários\n",
        "10. Funções\n",
        "11. Funções anonimas (Lambda) \n",
        "12. Laços\n",
        "13. Map e Filter"
      ]
    },
    {
      "cell_type": "markdown",
      "metadata": {
        "id": "1VNb2cJ-NPan"
      },
      "source": [
        "## 1. Imports"
      ]
    },
    {
      "cell_type": "code",
      "metadata": {
        "id": "AlHSoMN2NPao",
        "colab": {
          "base_uri": "https://localhost:8080/"
        },
        "outputId": "1d2f5060-3da4-427a-fc9c-1b9b4cbfade5"
      },
      "source": [
        "# 'import genérico\n",
        "import math\n",
        "math.sqrt(25)"
      ],
      "execution_count": 1,
      "outputs": [
        {
          "output_type": "execute_result",
          "data": {
            "text/plain": [
              "5.0"
            ]
          },
          "metadata": {
            "tags": []
          },
          "execution_count": 1
        }
      ]
    },
    {
      "cell_type": "code",
      "metadata": {
        "id": "0oBhsnaGNPar",
        "colab": {
          "base_uri": "https://localhost:8080/"
        },
        "outputId": "b6b046a3-7f6c-401c-bb15-785844304e77"
      },
      "source": [
        "# import de uma função\n",
        "from math import sqrt\n",
        "sqrt(25)    # não precisa referenciar o módulo"
      ],
      "execution_count": 2,
      "outputs": [
        {
          "output_type": "execute_result",
          "data": {
            "text/plain": [
              "5.0"
            ]
          },
          "metadata": {
            "tags": []
          },
          "execution_count": 2
        }
      ]
    },
    {
      "cell_type": "code",
      "metadata": {
        "id": "dwT2uYOONPau"
      },
      "source": [
        "# import de multiplas funções\n",
        "from math import cos, floor"
      ],
      "execution_count": null,
      "outputs": []
    },
    {
      "cell_type": "code",
      "metadata": {
        "id": "2Is2C5UwNPaw"
      },
      "source": [
        "# import de todas as funções de um módulo\n",
        "from csv import *"
      ],
      "execution_count": null,
      "outputs": []
    },
    {
      "cell_type": "code",
      "metadata": {
        "id": "oqLnrczXNPay"
      },
      "source": [
        "# definindo um alias\n",
        "import datetime as dt"
      ],
      "execution_count": 3,
      "outputs": []
    },
    {
      "cell_type": "markdown",
      "metadata": {
        "id": "ENnJTJaNNPa0"
      },
      "source": [
        "## 2. Tipos de Dados\n",
        "\n",
        "**Determinando o tipo de um objeto:**"
      ]
    },
    {
      "cell_type": "code",
      "metadata": {
        "id": "ip2BuVVxNPa0",
        "outputId": "853f32ee-fe19-4629-f10a-54f5a7f9efae"
      },
      "source": [
        "type(2)"
      ],
      "execution_count": null,
      "outputs": [
        {
          "output_type": "execute_result",
          "data": {
            "text/plain": [
              "int"
            ]
          },
          "metadata": {
            "tags": []
          },
          "execution_count": 6
        }
      ]
    },
    {
      "cell_type": "code",
      "metadata": {
        "id": "mIRcjhplNPa3",
        "outputId": "dd314c4e-17c2-4cfa-94bb-018e43c98f4a"
      },
      "source": [
        "type(2.0)"
      ],
      "execution_count": null,
      "outputs": [
        {
          "output_type": "execute_result",
          "data": {
            "text/plain": [
              "float"
            ]
          },
          "metadata": {
            "tags": []
          },
          "execution_count": 7
        }
      ]
    },
    {
      "cell_type": "code",
      "metadata": {
        "id": "241DRkoSNPa5",
        "outputId": "594ade4e-4f5a-4c98-84fa-00c106a489c7"
      },
      "source": [
        "type('two')"
      ],
      "execution_count": null,
      "outputs": [
        {
          "output_type": "execute_result",
          "data": {
            "text/plain": [
              "str"
            ]
          },
          "metadata": {
            "tags": []
          },
          "execution_count": 8
        }
      ]
    },
    {
      "cell_type": "code",
      "metadata": {
        "id": "Se97vhXQNPa7",
        "colab": {
          "base_uri": "https://localhost:8080/",
          "height": 34
        },
        "outputId": "c130dba2-c00a-4cb7-821f-a9372a98867a"
      },
      "source": [
        "type(True)"
      ],
      "execution_count": null,
      "outputs": [
        {
          "output_type": "execute_result",
          "data": {
            "text/plain": [
              "bool"
            ]
          },
          "metadata": {
            "tags": []
          },
          "execution_count": 6
        }
      ]
    },
    {
      "cell_type": "code",
      "metadata": {
        "id": "ReOf5Lh2NPa8",
        "outputId": "b7cc7308-04f9-4657-b0fd-3ec07c591b12"
      },
      "source": [
        "type(None)"
      ],
      "execution_count": null,
      "outputs": [
        {
          "output_type": "execute_result",
          "data": {
            "text/plain": [
              "NoneType"
            ]
          },
          "metadata": {
            "tags": []
          },
          "execution_count": 10
        }
      ]
    },
    {
      "cell_type": "markdown",
      "metadata": {
        "id": "UfXe0pchNPa-"
      },
      "source": [
        "**Verifica se um objeto é de um tipo dado:**"
      ]
    },
    {
      "cell_type": "code",
      "metadata": {
        "id": "hrEIWc4QNPa_",
        "colab": {
          "base_uri": "https://localhost:8080/"
        },
        "outputId": "f3033bd9-1d4e-4500-fbf4-109e0f273035"
      },
      "source": [
        "isinstance(2.0, int)"
      ],
      "execution_count": 4,
      "outputs": [
        {
          "output_type": "execute_result",
          "data": {
            "text/plain": [
              "False"
            ]
          },
          "metadata": {
            "tags": []
          },
          "execution_count": 4
        }
      ]
    },
    {
      "cell_type": "code",
      "metadata": {
        "id": "rBGc_o1iNPbB",
        "colab": {
          "base_uri": "https://localhost:8080/"
        },
        "outputId": "b1997f07-c4dd-4b96-f77b-7b470dd5f8ce"
      },
      "source": [
        "isinstance(2.0, (int, float))"
      ],
      "execution_count": 5,
      "outputs": [
        {
          "output_type": "execute_result",
          "data": {
            "text/plain": [
              "True"
            ]
          },
          "metadata": {
            "tags": []
          },
          "execution_count": 5
        }
      ]
    },
    {
      "cell_type": "markdown",
      "metadata": {
        "id": "8ThZPWoqNPbD"
      },
      "source": [
        "**Conversão:**"
      ]
    },
    {
      "cell_type": "code",
      "metadata": {
        "id": "Ezi88hcmNPbD",
        "outputId": "fec1b165-bafd-4824-9bc2-9a4dd0630ecf"
      },
      "source": [
        "float(2)"
      ],
      "execution_count": null,
      "outputs": [
        {
          "output_type": "execute_result",
          "data": {
            "text/plain": [
              "2.0"
            ]
          },
          "metadata": {
            "tags": []
          },
          "execution_count": 13
        }
      ]
    },
    {
      "cell_type": "code",
      "metadata": {
        "id": "UN6yWtKkNPbF",
        "colab": {
          "base_uri": "https://localhost:8080/"
        },
        "outputId": "4372e562-f1e5-4906-925d-70829b540a56"
      },
      "source": [
        "int(2.8)"
      ],
      "execution_count": 8,
      "outputs": [
        {
          "output_type": "execute_result",
          "data": {
            "text/plain": [
              "2"
            ]
          },
          "metadata": {
            "tags": []
          },
          "execution_count": 8
        }
      ]
    },
    {
      "cell_type": "code",
      "metadata": {
        "id": "ly7C1E4DNPbH",
        "colab": {
          "base_uri": "https://localhost:8080/",
          "height": 35
        },
        "outputId": "18e8928c-025c-469a-821f-38a5010bf54f"
      },
      "source": [
        "str(2.9)"
      ],
      "execution_count": null,
      "outputs": [
        {
          "output_type": "execute_result",
          "data": {
            "application/vnd.google.colaboratory.intrinsic+json": {
              "type": "string"
            },
            "text/plain": [
              "'2.9'"
            ]
          },
          "metadata": {
            "tags": []
          },
          "execution_count": 10
        }
      ]
    },
    {
      "cell_type": "markdown",
      "metadata": {
        "id": "eZLXVo-7NPbI"
      },
      "source": [
        "**Zero, `None`, e empty containers são ditos como `False`:**"
      ]
    },
    {
      "cell_type": "code",
      "metadata": {
        "id": "SSU1J9qqNPbK",
        "outputId": "6ac806d4-037e-429e-e058-4229a79e4be8"
      },
      "source": [
        "bool(0)"
      ],
      "execution_count": null,
      "outputs": [
        {
          "output_type": "execute_result",
          "data": {
            "text/plain": [
              "False"
            ]
          },
          "metadata": {
            "tags": []
          },
          "execution_count": 16
        }
      ]
    },
    {
      "cell_type": "code",
      "metadata": {
        "id": "QTOGwejiNPbM",
        "outputId": "269a5076-22d1-4feb-d3a7-ae58fd734da5"
      },
      "source": [
        "bool(None)"
      ],
      "execution_count": null,
      "outputs": [
        {
          "output_type": "execute_result",
          "data": {
            "text/plain": [
              "False"
            ]
          },
          "metadata": {
            "tags": []
          },
          "execution_count": 17
        }
      ]
    },
    {
      "cell_type": "code",
      "metadata": {
        "id": "SJXo-1WiNPbN",
        "outputId": "de98078c-ffe3-4c61-bab9-d9947c653f84"
      },
      "source": [
        "bool('')    # string vazia"
      ],
      "execution_count": null,
      "outputs": [
        {
          "output_type": "execute_result",
          "data": {
            "text/plain": [
              "False"
            ]
          },
          "metadata": {
            "tags": []
          },
          "execution_count": 18
        }
      ]
    },
    {
      "cell_type": "code",
      "metadata": {
        "id": "QM4s4NvMNPbP",
        "outputId": "1bc0daab-8d5a-4b35-82d1-ab956471bac5"
      },
      "source": [
        "bool([])    # lista vazia"
      ],
      "execution_count": null,
      "outputs": [
        {
          "output_type": "execute_result",
          "data": {
            "text/plain": [
              "False"
            ]
          },
          "metadata": {
            "tags": []
          },
          "execution_count": 19
        }
      ]
    },
    {
      "cell_type": "code",
      "metadata": {
        "id": "WeCu5H-BNPbR",
        "outputId": "938eecee-e93a-4857-ae2e-dd3eddebc6f4"
      },
      "source": [
        "bool({})    # diccionário vazio"
      ],
      "execution_count": null,
      "outputs": [
        {
          "output_type": "execute_result",
          "data": {
            "text/plain": [
              "False"
            ]
          },
          "metadata": {
            "tags": []
          },
          "execution_count": 20
        }
      ]
    },
    {
      "cell_type": "markdown",
      "metadata": {
        "id": "iolcyvY2NPbT"
      },
      "source": [
        "**Non-empty containers e non-zeros são ditos como `True`:**"
      ]
    },
    {
      "cell_type": "code",
      "metadata": {
        "id": "GGSbEKWSNPbT",
        "outputId": "22b30f01-dd6a-4e1a-cb91-acac8fa197c8"
      },
      "source": [
        "bool(2)"
      ],
      "execution_count": null,
      "outputs": [
        {
          "output_type": "execute_result",
          "data": {
            "text/plain": [
              "True"
            ]
          },
          "metadata": {
            "tags": []
          },
          "execution_count": 21
        }
      ]
    },
    {
      "cell_type": "code",
      "metadata": {
        "id": "71EwAiYGNPbV",
        "outputId": "ceeaff2b-9a0e-458d-b4d0-c22082e2baa7"
      },
      "source": [
        "bool('two')"
      ],
      "execution_count": null,
      "outputs": [
        {
          "output_type": "execute_result",
          "data": {
            "text/plain": [
              "True"
            ]
          },
          "metadata": {
            "tags": []
          },
          "execution_count": 22
        }
      ]
    },
    {
      "cell_type": "code",
      "metadata": {
        "id": "MEEsI0UANPbX",
        "outputId": "3d10bdba-9bd6-4801-8d86-c95b2d9d3e6f"
      },
      "source": [
        "bool([2])"
      ],
      "execution_count": null,
      "outputs": [
        {
          "output_type": "execute_result",
          "data": {
            "text/plain": [
              "True"
            ]
          },
          "metadata": {
            "tags": []
          },
          "execution_count": 23
        }
      ]
    },
    {
      "cell_type": "markdown",
      "metadata": {
        "id": "U622u-nJNPbY"
      },
      "source": [
        "## 3. Operações matemáticas"
      ]
    },
    {
      "cell_type": "code",
      "metadata": {
        "id": "PNyNPUEkNPbZ",
        "outputId": "b99c7f7b-5179-4f12-8634-92831e73baec"
      },
      "source": [
        "10 + 4"
      ],
      "execution_count": null,
      "outputs": [
        {
          "output_type": "execute_result",
          "data": {
            "text/plain": [
              "14"
            ]
          },
          "metadata": {
            "tags": []
          },
          "execution_count": 24
        }
      ]
    },
    {
      "cell_type": "code",
      "metadata": {
        "id": "cJfyoxuCNPbb",
        "outputId": "d41f082a-84d2-4664-f98e-d8a832f7f5e0"
      },
      "source": [
        "10 - 4"
      ],
      "execution_count": null,
      "outputs": [
        {
          "output_type": "execute_result",
          "data": {
            "text/plain": [
              "6"
            ]
          },
          "metadata": {
            "tags": []
          },
          "execution_count": 25
        }
      ]
    },
    {
      "cell_type": "code",
      "metadata": {
        "id": "K11IAN2ZNPbd",
        "outputId": "66292333-cd18-47aa-946c-f6c2b640c695"
      },
      "source": [
        "10 * 4"
      ],
      "execution_count": null,
      "outputs": [
        {
          "output_type": "execute_result",
          "data": {
            "text/plain": [
              "40"
            ]
          },
          "metadata": {
            "tags": []
          },
          "execution_count": 26
        }
      ]
    },
    {
      "cell_type": "code",
      "metadata": {
        "id": "8FUKAQstNPbe",
        "outputId": "5c70a857-e590-478e-daab-f5a8a911d0c5"
      },
      "source": [
        "10 ** 4    # expoente"
      ],
      "execution_count": null,
      "outputs": [
        {
          "output_type": "execute_result",
          "data": {
            "text/plain": [
              "10000"
            ]
          },
          "metadata": {
            "tags": []
          },
          "execution_count": 27
        }
      ]
    },
    {
      "cell_type": "code",
      "metadata": {
        "id": "za05ygnhNPbg",
        "outputId": "9b7aee71-fd96-4e1e-f6d6-f99195328d55"
      },
      "source": [
        "5 % 4      # modulo - calcula o resto"
      ],
      "execution_count": null,
      "outputs": [
        {
          "output_type": "execute_result",
          "data": {
            "text/plain": [
              "1"
            ]
          },
          "metadata": {
            "tags": []
          },
          "execution_count": 28
        }
      ]
    },
    {
      "cell_type": "code",
      "metadata": {
        "scrolled": true,
        "id": "MK3OzuYSNPbi",
        "colab": {
          "base_uri": "https://localhost:8080/"
        },
        "outputId": "886c81dd-7f48-42b0-8c5f-094f3925f0dd"
      },
      "source": [
        "# Python 2: retorna 2 (porque ambos são 'int')\n",
        "# Python 3: returns 2.5\n",
        "10 / 4"
      ],
      "execution_count": 9,
      "outputs": [
        {
          "output_type": "execute_result",
          "data": {
            "text/plain": [
              "2.5"
            ]
          },
          "metadata": {
            "tags": []
          },
          "execution_count": 9
        }
      ]
    },
    {
      "cell_type": "code",
      "metadata": {
        "scrolled": true,
        "id": "3m8FVCajNPbj",
        "outputId": "66d8c529-4997-4e24-c20f-e14414f3670a"
      },
      "source": [
        "10 / float(4)"
      ],
      "execution_count": null,
      "outputs": [
        {
          "output_type": "execute_result",
          "data": {
            "text/plain": [
              "2.5"
            ]
          },
          "metadata": {
            "tags": []
          },
          "execution_count": 30
        }
      ]
    },
    {
      "cell_type": "code",
      "metadata": {
        "id": "yWTKd_JkNPbl",
        "colab": {
          "base_uri": "https://localhost:8080/"
        },
        "outputId": "066df975-1901-455f-8363-01e961201077"
      },
      "source": [
        "10 // 4    # floor division"
      ],
      "execution_count": 10,
      "outputs": [
        {
          "output_type": "execute_result",
          "data": {
            "text/plain": [
              "2"
            ]
          },
          "metadata": {
            "tags": []
          },
          "execution_count": 10
        }
      ]
    },
    {
      "cell_type": "markdown",
      "metadata": {
        "id": "ZHTBX5IqNPbm"
      },
      "source": [
        "## 4. Comparações"
      ]
    },
    {
      "cell_type": "markdown",
      "metadata": {
        "id": "ayl7kMfSNPbn"
      },
      "source": [
        "**Atribuição:**"
      ]
    },
    {
      "cell_type": "code",
      "metadata": {
        "id": "mgiIXBeWNPbn"
      },
      "source": [
        "x = 5"
      ],
      "execution_count": 11,
      "outputs": []
    },
    {
      "cell_type": "markdown",
      "metadata": {
        "id": "hr_cIC44NPbo"
      },
      "source": [
        "**Comparações:**"
      ]
    },
    {
      "cell_type": "code",
      "metadata": {
        "id": "9M_7rhHINPbp",
        "colab": {
          "base_uri": "https://localhost:8080/",
          "height": 34
        },
        "outputId": "1f8ec3de-7082-47e9-e2f4-78272ab4f86f"
      },
      "source": [
        "x > 3"
      ],
      "execution_count": null,
      "outputs": [
        {
          "output_type": "execute_result",
          "data": {
            "text/plain": [
              "True"
            ]
          },
          "metadata": {
            "tags": []
          },
          "execution_count": 19
        }
      ]
    },
    {
      "cell_type": "code",
      "metadata": {
        "id": "-C9HNgb1NPbq",
        "outputId": "3f37b00a-b2d9-40a8-d598-61ddc89d0b26"
      },
      "source": [
        "x >= 3"
      ],
      "execution_count": null,
      "outputs": [
        {
          "output_type": "execute_result",
          "data": {
            "text/plain": [
              "True"
            ]
          },
          "metadata": {
            "tags": []
          },
          "execution_count": 34
        }
      ]
    },
    {
      "cell_type": "code",
      "metadata": {
        "id": "7D5G39rYNPbs",
        "colab": {
          "base_uri": "https://localhost:8080/"
        },
        "outputId": "da197d4c-3ed5-41b4-edd2-eabcbaacc7f7"
      },
      "source": [
        "x != 3"
      ],
      "execution_count": 12,
      "outputs": [
        {
          "output_type": "execute_result",
          "data": {
            "text/plain": [
              "True"
            ]
          },
          "metadata": {
            "tags": []
          },
          "execution_count": 12
        }
      ]
    },
    {
      "cell_type": "code",
      "metadata": {
        "id": "t7lbKBfQNPbu",
        "colab": {
          "base_uri": "https://localhost:8080/"
        },
        "outputId": "cc8c13ee-3b39-4f6e-b573-ab6c2c414243"
      },
      "source": [
        "x == 5"
      ],
      "execution_count": 13,
      "outputs": [
        {
          "output_type": "execute_result",
          "data": {
            "text/plain": [
              "True"
            ]
          },
          "metadata": {
            "tags": []
          },
          "execution_count": 13
        }
      ]
    },
    {
      "cell_type": "markdown",
      "metadata": {
        "id": "gQxhi9r7NPbx"
      },
      "source": [
        "**Operações Booleanas:**"
      ]
    },
    {
      "cell_type": "code",
      "metadata": {
        "id": "rzsQInmiNPbx",
        "outputId": "4f092f2a-08d4-48a8-c32a-43e14be0022d"
      },
      "source": [
        "5 > 3 and 6 > 3"
      ],
      "execution_count": null,
      "outputs": [
        {
          "output_type": "execute_result",
          "data": {
            "text/plain": [
              "True"
            ]
          },
          "metadata": {
            "tags": []
          },
          "execution_count": 37
        }
      ]
    },
    {
      "cell_type": "code",
      "metadata": {
        "id": "T213a2O8NPbz",
        "outputId": "8978bffe-108c-4d97-b2a7-d1d5a653858f"
      },
      "source": [
        "5 > 3 or 5 < 3"
      ],
      "execution_count": null,
      "outputs": [
        {
          "output_type": "execute_result",
          "data": {
            "text/plain": [
              "True"
            ]
          },
          "metadata": {
            "tags": []
          },
          "execution_count": 38
        }
      ]
    },
    {
      "cell_type": "code",
      "metadata": {
        "id": "je1Rb2PwNPb1",
        "outputId": "ece0afe0-cea5-453d-a455-9b86d46f6127"
      },
      "source": [
        "not False"
      ],
      "execution_count": null,
      "outputs": [
        {
          "output_type": "execute_result",
          "data": {
            "text/plain": [
              "True"
            ]
          },
          "metadata": {
            "tags": []
          },
          "execution_count": 39
        }
      ]
    },
    {
      "cell_type": "code",
      "metadata": {
        "id": "QmrUuSAsNPb2",
        "colab": {
          "base_uri": "https://localhost:8080/"
        },
        "outputId": "373b5f69-41b5-4156-a455-62df665d731f"
      },
      "source": [
        "False or not False and True     # ordem de avaliação: not, and, or"
      ],
      "execution_count": 14,
      "outputs": [
        {
          "output_type": "execute_result",
          "data": {
            "text/plain": [
              "True"
            ]
          },
          "metadata": {
            "tags": []
          },
          "execution_count": 14
        }
      ]
    },
    {
      "cell_type": "markdown",
      "metadata": {
        "id": "eD5mVltdNPb4"
      },
      "source": [
        "## 5. Condicionais"
      ]
    },
    {
      "cell_type": "code",
      "metadata": {
        "id": "h563-k_rX2FO"
      },
      "source": [
        "x = -5"
      ],
      "execution_count": 17,
      "outputs": []
    },
    {
      "cell_type": "code",
      "metadata": {
        "id": "gag7mDB2NPb5",
        "colab": {
          "base_uri": "https://localhost:8080/"
        },
        "outputId": "2404efd7-3b60-473b-84ad-551ec8f15ed9"
      },
      "source": [
        "# if statement\n",
        "if x > 0:\n",
        "    print('positivo')\n",
        "print('teste')"
      ],
      "execution_count": 20,
      "outputs": [
        {
          "output_type": "stream",
          "text": [
            "teste\n"
          ],
          "name": "stdout"
        }
      ]
    },
    {
      "cell_type": "code",
      "metadata": {
        "id": "L9UWqqqVNPb7",
        "outputId": "971bc87d-9879-4ef7-def8-e1c7e97c8df0"
      },
      "source": [
        "# if/else statement\n",
        "if x > 0:\n",
        "    print('positivo')\n",
        "else:\n",
        "    print('zero or negative')"
      ],
      "execution_count": null,
      "outputs": [
        {
          "output_type": "stream",
          "text": [
            "positive\n"
          ],
          "name": "stdout"
        }
      ]
    },
    {
      "cell_type": "code",
      "metadata": {
        "id": "fnGDjCvfNPb9",
        "colab": {
          "base_uri": "https://localhost:8080/"
        },
        "outputId": "be7fc3f6-49ae-4d10-9234-f38d2f372648"
      },
      "source": [
        "# if/elif/else statement\n",
        "x = 0\n",
        "if x > 0:\n",
        "    print('positive')\n",
        "elif x == 0:\n",
        "    print('zero')\n",
        "else:\n",
        "    print('negative')"
      ],
      "execution_count": 21,
      "outputs": [
        {
          "output_type": "stream",
          "text": [
            "zero\n"
          ],
          "name": "stdout"
        }
      ]
    },
    {
      "cell_type": "code",
      "metadata": {
        "id": "H_Da66Q6NPb_",
        "outputId": "cf7eaf93-5933-47a8-85c6-075905fe27fe"
      },
      "source": [
        "# linha única if statement \n",
        "if x > 0: print('positive')"
      ],
      "execution_count": null,
      "outputs": [
        {
          "output_type": "stream",
          "text": [
            "positive\n"
          ],
          "name": "stdout"
        }
      ]
    },
    {
      "cell_type": "code",
      "metadata": {
        "id": "UgnWG2zfNPcA",
        "colab": {
          "base_uri": "https://localhost:8080/",
          "height": 35
        },
        "outputId": "d6531e65-c65c-4c05-e99e-a6f4c1070525"
      },
      "source": [
        "# linha única if/else statement, conhecida como 'operador ternário'\n",
        "'positive' if x > 0 else 'zero or negative'"
      ],
      "execution_count": 25,
      "outputs": [
        {
          "output_type": "execute_result",
          "data": {
            "application/vnd.google.colaboratory.intrinsic+json": {
              "type": "string"
            },
            "text/plain": [
              "'positive'"
            ]
          },
          "metadata": {
            "tags": []
          },
          "execution_count": 25
        }
      ]
    },
    {
      "cell_type": "code",
      "metadata": {
        "id": "Y6FKqhq8Zb6H"
      },
      "source": [
        "x=1"
      ],
      "execution_count": 24,
      "outputs": []
    },
    {
      "cell_type": "markdown",
      "metadata": {
        "id": "yipZqMuMNPcC"
      },
      "source": [
        "## 6. Listas\n",
        "\n",
        "- **Propriedades:** ordenada, iterable, pode conter tipos diferentes"
      ]
    },
    {
      "cell_type": "code",
      "metadata": {
        "id": "0aM4FKnmNPcD"
      },
      "source": [
        "# cria lista vazia (2 formas)\n",
        "empty_list = []\n",
        "empty_list = list()"
      ],
      "execution_count": null,
      "outputs": []
    },
    {
      "cell_type": "code",
      "metadata": {
        "id": "cxquasJMNPcE"
      },
      "source": [
        "# cria uma lista\n",
        "simpsons = ['homer', 'marge', 'bart']"
      ],
      "execution_count": 1,
      "outputs": []
    },
    {
      "cell_type": "markdown",
      "metadata": {
        "id": "K5HSYKPWNPcG"
      },
      "source": [
        "**Examina uma lista:**"
      ]
    },
    {
      "cell_type": "code",
      "metadata": {
        "id": "ZJAEK6SdNPcG",
        "colab": {
          "base_uri": "https://localhost:8080/",
          "height": 35
        },
        "outputId": "acad9b7b-8bfa-42de-99f6-5f926a80ece8"
      },
      "source": [
        "# imprime elemento 0\n",
        "simpsons[0]"
      ],
      "execution_count": null,
      "outputs": [
        {
          "output_type": "execute_result",
          "data": {
            "application/vnd.google.colaboratory.intrinsic+json": {
              "type": "string"
            },
            "text/plain": [
              "'homer'"
            ]
          },
          "metadata": {
            "tags": []
          },
          "execution_count": 23
        }
      ]
    },
    {
      "cell_type": "code",
      "metadata": {
        "id": "LBlIGPuGNPcI",
        "colab": {
          "base_uri": "https://localhost:8080/"
        },
        "outputId": "24535955-0c03-4d19-b606-ab3e61ad75ad"
      },
      "source": [
        "len(simpsons)"
      ],
      "execution_count": 27,
      "outputs": [
        {
          "output_type": "execute_result",
          "data": {
            "text/plain": [
              "3"
            ]
          },
          "metadata": {
            "tags": []
          },
          "execution_count": 27
        }
      ]
    },
    {
      "cell_type": "markdown",
      "metadata": {
        "id": "wyjcWLqyNPcK"
      },
      "source": [
        "**Modifica a lista:**"
      ]
    },
    {
      "cell_type": "code",
      "metadata": {
        "id": "vas7gx3wNPcK",
        "colab": {
          "base_uri": "https://localhost:8080/"
        },
        "outputId": "9c109ead-bb15-4871-9ad5-bd9f8f2b5240"
      },
      "source": [
        "# adiciona elemento no final\n",
        "simpsons.append('lisa')\n",
        "simpsons"
      ],
      "execution_count": 28,
      "outputs": [
        {
          "output_type": "execute_result",
          "data": {
            "text/plain": [
              "['homer', 'marge', 'bart', 'lisa']"
            ]
          },
          "metadata": {
            "tags": []
          },
          "execution_count": 28
        }
      ]
    },
    {
      "cell_type": "code",
      "metadata": {
        "id": "K5V9hw-jNPcM",
        "colab": {
          "base_uri": "https://localhost:8080/"
        },
        "outputId": "e48a2ce7-2424-4146-a445-c5b72011f6db"
      },
      "source": [
        "# adiciona multiplos elementos no final\n",
        "simpsons.extend(['itchy', 'scratchy'])\n",
        "simpsons"
      ],
      "execution_count": 29,
      "outputs": [
        {
          "output_type": "execute_result",
          "data": {
            "text/plain": [
              "['homer', 'marge', 'bart', 'lisa', 'itchy', 'scratchy']"
            ]
          },
          "metadata": {
            "tags": []
          },
          "execution_count": 29
        }
      ]
    },
    {
      "cell_type": "code",
      "metadata": {
        "id": "0EKU0yKaNPcO",
        "colab": {
          "base_uri": "https://localhost:8080/"
        },
        "outputId": "6fd2adad-8722-4bd2-9abb-3f427f8dbf75"
      },
      "source": [
        "# insere elemento no indice 0 (move todos para direita)\n",
        "simpsons.insert(0, 'maggie')\n",
        "simpsons"
      ],
      "execution_count": 30,
      "outputs": [
        {
          "output_type": "execute_result",
          "data": {
            "text/plain": [
              "['maggie', 'homer', 'marge', 'bart', 'lisa', 'itchy', 'scratchy']"
            ]
          },
          "metadata": {
            "tags": []
          },
          "execution_count": 30
        }
      ]
    },
    {
      "cell_type": "code",
      "metadata": {
        "id": "8opjBXbvNPcQ",
        "colab": {
          "base_uri": "https://localhost:8080/"
        },
        "outputId": "383c4415-6d76-4e1b-8580-ba74122b3e6b"
      },
      "source": [
        "# procura primeira ocorrencia e remove\n",
        "simpsons.remove('bart')\n",
        "simpsons"
      ],
      "execution_count": 31,
      "outputs": [
        {
          "output_type": "execute_result",
          "data": {
            "text/plain": [
              "['maggie', 'homer', 'marge', 'lisa', 'itchy', 'scratchy']"
            ]
          },
          "metadata": {
            "tags": []
          },
          "execution_count": 31
        }
      ]
    },
    {
      "cell_type": "code",
      "metadata": {
        "id": "hPi6zpKCNPcS",
        "colab": {
          "base_uri": "https://localhost:8080/",
          "height": 35
        },
        "outputId": "dcee51b6-e590-4003-c2d8-946cad03cf10"
      },
      "source": [
        "# remove elemento 0 e retorna\n",
        "simpsons.pop(0)"
      ],
      "execution_count": 32,
      "outputs": [
        {
          "output_type": "execute_result",
          "data": {
            "application/vnd.google.colaboratory.intrinsic+json": {
              "type": "string"
            },
            "text/plain": [
              "'maggie'"
            ]
          },
          "metadata": {
            "tags": []
          },
          "execution_count": 32
        }
      ]
    },
    {
      "cell_type": "code",
      "metadata": {
        "id": "cXti_sDneADG",
        "colab": {
          "base_uri": "https://localhost:8080/"
        },
        "outputId": "263467df-473b-416a-8a36-6d7db907f390"
      },
      "source": [
        "simpsons"
      ],
      "execution_count": 33,
      "outputs": [
        {
          "output_type": "execute_result",
          "data": {
            "text/plain": [
              "['homer', 'marge', 'lisa', 'itchy', 'scratchy']"
            ]
          },
          "metadata": {
            "tags": []
          },
          "execution_count": 33
        }
      ]
    },
    {
      "cell_type": "code",
      "metadata": {
        "id": "ug8zfp3DNPcU",
        "colab": {
          "base_uri": "https://localhost:8080/"
        },
        "outputId": "d45fd83d-0934-4bc8-9e76-c1c1abe5d8a4"
      },
      "source": [
        "# remove elemento 0 e não retorna\n",
        "del simpsons[0]\n",
        "simpsons"
      ],
      "execution_count": 34,
      "outputs": [
        {
          "output_type": "execute_result",
          "data": {
            "text/plain": [
              "['marge', 'lisa', 'itchy', 'scratchy']"
            ]
          },
          "metadata": {
            "tags": []
          },
          "execution_count": 34
        }
      ]
    },
    {
      "cell_type": "code",
      "metadata": {
        "id": "BMUlkcJnNPcV",
        "colab": {
          "base_uri": "https://localhost:8080/"
        },
        "outputId": "3d5e1f12-9cc1-413b-8bf1-ceec88113e44"
      },
      "source": [
        "# substitui elemento 0\n",
        "simpsons[0] = 'krusty'\n",
        "simpsons"
      ],
      "execution_count": 35,
      "outputs": [
        {
          "output_type": "execute_result",
          "data": {
            "text/plain": [
              "['krusty', 'lisa', 'itchy', 'scratchy']"
            ]
          },
          "metadata": {
            "tags": []
          },
          "execution_count": 35
        }
      ]
    },
    {
      "cell_type": "code",
      "metadata": {
        "id": "Dsbtug2LNPcW",
        "colab": {
          "base_uri": "https://localhost:8080/"
        },
        "outputId": "75ca0bc7-fc55-41c8-f557-8c26b59e7ea7"
      },
      "source": [
        "# concatena listas\n",
        "neighbors = simpsons + ['ned', 'rod', 'todd']\n",
        "neighbors"
      ],
      "execution_count": 36,
      "outputs": [
        {
          "output_type": "execute_result",
          "data": {
            "text/plain": [
              "['krusty', 'lisa', 'itchy', 'scratchy', 'ned', 'rod', 'todd']"
            ]
          },
          "metadata": {
            "tags": []
          },
          "execution_count": 36
        }
      ]
    },
    {
      "cell_type": "markdown",
      "metadata": {
        "id": "mmvUVNlVNPcY"
      },
      "source": [
        "**Encontra elementos na lista:**"
      ]
    },
    {
      "cell_type": "code",
      "metadata": {
        "id": "D23mcC-rNPcY",
        "colab": {
          "base_uri": "https://localhost:8080/"
        },
        "outputId": "bde72de3-3ae1-465e-84a1-c10228b06372"
      },
      "source": [
        "# conta número de ocorrecias\n",
        "simpsons.count('lisa')"
      ],
      "execution_count": 37,
      "outputs": [
        {
          "output_type": "execute_result",
          "data": {
            "text/plain": [
              "1"
            ]
          },
          "metadata": {
            "tags": []
          },
          "execution_count": 37
        }
      ]
    },
    {
      "cell_type": "code",
      "metadata": {
        "id": "RpWay3z4NPcb",
        "colab": {
          "base_uri": "https://localhost:8080/"
        },
        "outputId": "de39a9a8-1388-4896-e323-386f64baacdd"
      },
      "source": [
        "# retorna indice a primeira ocorrencia\n",
        "simpsons.index('itchy')"
      ],
      "execution_count": 38,
      "outputs": [
        {
          "output_type": "execute_result",
          "data": {
            "text/plain": [
              "2"
            ]
          },
          "metadata": {
            "tags": []
          },
          "execution_count": 38
        }
      ]
    },
    {
      "cell_type": "markdown",
      "metadata": {
        "id": "RX4rtlSqNPcc"
      },
      "source": [
        "**Quebrando uma Lista:**"
      ]
    },
    {
      "cell_type": "code",
      "metadata": {
        "id": "IS5FEaF9NPcd"
      },
      "source": [
        "weekdays = ['mon', 'tues', 'wed', 'thurs', 'fri']"
      ],
      "execution_count": 39,
      "outputs": []
    },
    {
      "cell_type": "code",
      "metadata": {
        "id": "AOdRqr6lNPce",
        "colab": {
          "base_uri": "https://localhost:8080/",
          "height": 35
        },
        "outputId": "7a2e591e-75fc-4262-889d-4fb157937270"
      },
      "source": [
        "# elemento 0\n",
        "weekdays[0]"
      ],
      "execution_count": 40,
      "outputs": [
        {
          "output_type": "execute_result",
          "data": {
            "application/vnd.google.colaboratory.intrinsic+json": {
              "type": "string"
            },
            "text/plain": [
              "'mon'"
            ]
          },
          "metadata": {
            "tags": []
          },
          "execution_count": 40
        }
      ]
    },
    {
      "cell_type": "code",
      "metadata": {
        "id": "3HkNp6v9NPcf",
        "colab": {
          "base_uri": "https://localhost:8080/"
        },
        "outputId": "e2f89260-2cda-4864-cb51-fada0256a793"
      },
      "source": [
        "# elementos 0 (inclusive) até 3 (exclusive)\n",
        "weekdays[0:3]"
      ],
      "execution_count": 41,
      "outputs": [
        {
          "output_type": "execute_result",
          "data": {
            "text/plain": [
              "['mon', 'tues', 'wed']"
            ]
          },
          "metadata": {
            "tags": []
          },
          "execution_count": 41
        }
      ]
    },
    {
      "cell_type": "code",
      "metadata": {
        "id": "hvi3NvAONPch",
        "colab": {
          "base_uri": "https://localhost:8080/"
        },
        "outputId": "79aa3fdb-e9e6-4b5f-b163-58f2230d5ae6"
      },
      "source": [
        "# inicio implicito em 0\n",
        "weekdays[:3]"
      ],
      "execution_count": 42,
      "outputs": [
        {
          "output_type": "execute_result",
          "data": {
            "text/plain": [
              "['mon', 'tues', 'wed']"
            ]
          },
          "metadata": {
            "tags": []
          },
          "execution_count": 42
        }
      ]
    },
    {
      "cell_type": "code",
      "metadata": {
        "id": "zYQ-sOc3NPci",
        "colab": {
          "base_uri": "https://localhost:8080/"
        },
        "outputId": "6d5dd724-cebc-4c75-a778-c7b6ee237847"
      },
      "source": [
        "# elementos 3 (inclusive) até o final\n",
        "weekdays[3:]"
      ],
      "execution_count": 43,
      "outputs": [
        {
          "output_type": "execute_result",
          "data": {
            "text/plain": [
              "['thurs', 'fri']"
            ]
          },
          "metadata": {
            "tags": []
          },
          "execution_count": 43
        }
      ]
    },
    {
      "cell_type": "code",
      "metadata": {
        "id": "sd099gS5eymK",
        "colab": {
          "base_uri": "https://localhost:8080/"
        },
        "outputId": "a37a2275-a2db-4355-fe91-41ab21f08f7f"
      },
      "source": [
        "weekdays"
      ],
      "execution_count": 44,
      "outputs": [
        {
          "output_type": "execute_result",
          "data": {
            "text/plain": [
              "['mon', 'tues', 'wed', 'thurs', 'fri']"
            ]
          },
          "metadata": {
            "tags": []
          },
          "execution_count": 44
        }
      ]
    },
    {
      "cell_type": "code",
      "metadata": {
        "id": "gbKXQXjweuGq",
        "colab": {
          "base_uri": "https://localhost:8080/"
        },
        "outputId": "51b9ea4c-2529-4413-aa26-2f6b75ff85b0"
      },
      "source": [
        "weekdays[1:3]"
      ],
      "execution_count": 45,
      "outputs": [
        {
          "output_type": "execute_result",
          "data": {
            "text/plain": [
              "['tues', 'wed']"
            ]
          },
          "metadata": {
            "tags": []
          },
          "execution_count": 45
        }
      ]
    },
    {
      "cell_type": "code",
      "metadata": {
        "id": "SmtA38CbNPcj",
        "colab": {
          "base_uri": "https://localhost:8080/",
          "height": 35
        },
        "outputId": "235e821b-6476-4c10-eb07-709583b06775"
      },
      "source": [
        "# último elemento\n",
        "weekdays[-1]"
      ],
      "execution_count": 54,
      "outputs": [
        {
          "output_type": "execute_result",
          "data": {
            "application/vnd.google.colaboratory.intrinsic+json": {
              "type": "string"
            },
            "text/plain": [
              "'fri'"
            ]
          },
          "metadata": {
            "tags": []
          },
          "execution_count": 54
        }
      ]
    },
    {
      "cell_type": "code",
      "metadata": {
        "id": "E_Jeef8_NPcl",
        "colab": {
          "base_uri": "https://localhost:8080/"
        },
        "outputId": "64b7f2e9-ca8b-42d8-81ee-ac32ee4b5001"
      },
      "source": [
        "# todo 2o elemento (passo 2)\n",
        "weekdays[::2]"
      ],
      "execution_count": 55,
      "outputs": [
        {
          "output_type": "execute_result",
          "data": {
            "text/plain": [
              "['mon', 'wed', 'fri']"
            ]
          },
          "metadata": {
            "tags": []
          },
          "execution_count": 55
        }
      ]
    },
    {
      "cell_type": "code",
      "metadata": {
        "id": "1Suo83wBNPcm",
        "colab": {
          "base_uri": "https://localhost:8080/"
        },
        "outputId": "da7cfeca-e91f-428f-ff64-8d7c54109098"
      },
      "source": [
        "# reverso (passo -1)\n",
        "weekdays[::-1]"
      ],
      "execution_count": 56,
      "outputs": [
        {
          "output_type": "execute_result",
          "data": {
            "text/plain": [
              "['fri', 'thurs', 'wed', 'tues', 'mon']"
            ]
          },
          "metadata": {
            "tags": []
          },
          "execution_count": 56
        }
      ]
    },
    {
      "cell_type": "code",
      "metadata": {
        "id": "Wx-_w-vdNPco",
        "outputId": "199285d8-9447-4bec-da01-cdb0367000de"
      },
      "source": [
        "# método alternativo\n",
        "list(reversed(weekdays))"
      ],
      "execution_count": null,
      "outputs": [
        {
          "output_type": "execute_result",
          "data": {
            "text/plain": [
              "['fri', 'thurs', 'wed', 'tues', 'mon']"
            ]
          },
          "metadata": {
            "tags": []
          },
          "execution_count": 68
        }
      ]
    },
    {
      "cell_type": "markdown",
      "metadata": {
        "id": "JZInBgj2NPcp"
      },
      "source": [
        "**Ordena uma lista (modifica mas não retorna):**"
      ]
    },
    {
      "cell_type": "code",
      "metadata": {
        "id": "XdvP58_-NPcq",
        "colab": {
          "base_uri": "https://localhost:8080/"
        },
        "outputId": "1ec09d84-b781-4da2-ae53-68af4125f86a"
      },
      "source": [
        "simpsons.sort()\n",
        "simpsons"
      ],
      "execution_count": 11,
      "outputs": [
        {
          "output_type": "execute_result",
          "data": {
            "text/plain": [
              "['bart', 'homer', 'marge']"
            ]
          },
          "metadata": {
            "tags": []
          },
          "execution_count": 11
        }
      ]
    },
    {
      "cell_type": "code",
      "metadata": {
        "colab": {
          "base_uri": "https://localhost:8080/"
        },
        "id": "tbU0DZ5lmF4P",
        "outputId": "59875639-085b-43f4-f2f5-7f53069b1f46"
      },
      "source": [
        "simpsons"
      ],
      "execution_count": 3,
      "outputs": [
        {
          "output_type": "execute_result",
          "data": {
            "text/plain": [
              "['bart', 'homer', 'marge']"
            ]
          },
          "metadata": {
            "tags": []
          },
          "execution_count": 3
        }
      ]
    },
    {
      "cell_type": "code",
      "metadata": {
        "id": "R0tlm6BeNPcs",
        "colab": {
          "base_uri": "https://localhost:8080/"
        },
        "outputId": "22eb93a9-73fb-402c-9823-8eb80a1f1505"
      },
      "source": [
        "# ordena inversamente\n",
        "simpsons.sort(reverse=True)\n",
        "simpsons"
      ],
      "execution_count": 16,
      "outputs": [
        {
          "output_type": "execute_result",
          "data": {
            "text/plain": [
              "['marge', 'homer', 'bart']"
            ]
          },
          "metadata": {
            "tags": []
          },
          "execution_count": 16
        }
      ]
    },
    {
      "cell_type": "code",
      "metadata": {
        "id": "izAMCx7kNPct",
        "colab": {
          "base_uri": "https://localhost:8080/"
        },
        "outputId": "a24f4901-0a5d-4f05-cefc-96df1a978a83"
      },
      "source": [
        "# ordena por uma chave\n",
        "simpsons.sort(key=len)\n",
        "simpsons"
      ],
      "execution_count": 7,
      "outputs": [
        {
          "output_type": "execute_result",
          "data": {
            "text/plain": [
              "['bart', 'marge', 'homer']"
            ]
          },
          "metadata": {
            "tags": []
          },
          "execution_count": 7
        }
      ]
    },
    {
      "cell_type": "markdown",
      "metadata": {
        "id": "9DJIKK3ANPcu"
      },
      "source": [
        "**Retorna uma lista ordenada (não modifica a lista original):**"
      ]
    },
    {
      "cell_type": "code",
      "metadata": {
        "id": "2Rls6lvONPcu",
        "colab": {
          "base_uri": "https://localhost:8080/"
        },
        "outputId": "040e780a-9163-4041-9751-cc870e24b8e5"
      },
      "source": [
        "sorted(simpsons)"
      ],
      "execution_count": 18,
      "outputs": [
        {
          "output_type": "execute_result",
          "data": {
            "text/plain": [
              "['bart', 'homer', 'marge']"
            ]
          },
          "metadata": {
            "tags": []
          },
          "execution_count": 18
        }
      ]
    },
    {
      "cell_type": "code",
      "metadata": {
        "colab": {
          "base_uri": "https://localhost:8080/"
        },
        "id": "iwgFOqgnmqdH",
        "outputId": "f2d786d6-68c4-4051-aa28-8191242cb7c7"
      },
      "source": [
        "simpsons"
      ],
      "execution_count": 19,
      "outputs": [
        {
          "output_type": "execute_result",
          "data": {
            "text/plain": [
              "['marge', 'homer', 'bart']"
            ]
          },
          "metadata": {
            "tags": []
          },
          "execution_count": 19
        }
      ]
    },
    {
      "cell_type": "code",
      "metadata": {
        "id": "hZ5MbWllNPcv",
        "colab": {
          "base_uri": "https://localhost:8080/"
        },
        "outputId": "abfcbaa0-1201-4a65-de0c-525a82494627"
      },
      "source": [
        "sorted(simpsons, reverse=True)"
      ],
      "execution_count": 20,
      "outputs": [
        {
          "output_type": "execute_result",
          "data": {
            "text/plain": [
              "['marge', 'homer', 'bart']"
            ]
          },
          "metadata": {
            "tags": []
          },
          "execution_count": 20
        }
      ]
    },
    {
      "cell_type": "code",
      "metadata": {
        "id": "YXN2dvdtNPcw",
        "colab": {
          "base_uri": "https://localhost:8080/"
        },
        "outputId": "966ade65-1296-425d-e192-75401d462566"
      },
      "source": [
        "sorted(simpsons, key=len)"
      ],
      "execution_count": 21,
      "outputs": [
        {
          "output_type": "execute_result",
          "data": {
            "text/plain": [
              "['bart', 'marge', 'homer']"
            ]
          },
          "metadata": {
            "tags": []
          },
          "execution_count": 21
        }
      ]
    },
    {
      "cell_type": "markdown",
      "metadata": {
        "id": "59SRZiY2NPcx"
      },
      "source": [
        "**Insere em uma lista já ordenada e mantem a ordem:**"
      ]
    },
    {
      "cell_type": "code",
      "metadata": {
        "id": "rF3wmQDwNPcy",
        "colab": {
          "base_uri": "https://localhost:8080/"
        },
        "outputId": "95cd21f8-3859-41b2-e9ca-b3aca07e4ed0"
      },
      "source": [
        "num = [10, 20, 40, 50]\n",
        "from bisect import insort\n",
        "insort(num, 30)\n",
        "num"
      ],
      "execution_count": 27,
      "outputs": [
        {
          "output_type": "execute_result",
          "data": {
            "text/plain": [
              "[10, 20, 30, 40, 50]"
            ]
          },
          "metadata": {
            "tags": []
          },
          "execution_count": 27
        }
      ]
    },
    {
      "cell_type": "markdown",
      "metadata": {
        "id": "GD0DUK5JNPcz"
      },
      "source": [
        "**Referencias e cópias:**"
      ]
    },
    {
      "cell_type": "code",
      "metadata": {
        "id": "7wN0T0fdNPcz"
      },
      "source": [
        "# cria uma segunda referencia para a mesma lista\n",
        "same_num = num"
      ],
      "execution_count": 28,
      "outputs": []
    },
    {
      "cell_type": "code",
      "metadata": {
        "id": "1p8j4tFVf2zc",
        "colab": {
          "base_uri": "https://localhost:8080/"
        },
        "outputId": "19f81375-67f5-470e-a626-34a924a883d5"
      },
      "source": [
        "num"
      ],
      "execution_count": 35,
      "outputs": [
        {
          "output_type": "execute_result",
          "data": {
            "text/plain": [
              "[0, 20, 30, 40, 50]"
            ]
          },
          "metadata": {
            "tags": []
          },
          "execution_count": 35
        }
      ]
    },
    {
      "cell_type": "code",
      "metadata": {
        "id": "wu8xnmbJNPc0",
        "colab": {
          "base_uri": "https://localhost:8080/"
        },
        "outputId": "0e21dca1-b2b6-4046-dfbd-2d090e25a847"
      },
      "source": [
        "# modifica ambas as listas 'num' e 'same_num'\n",
        "same_num[0] = 0\n",
        "print(num)\n",
        "print(same_num)"
      ],
      "execution_count": 30,
      "outputs": [
        {
          "output_type": "stream",
          "text": [
            "[0, 20, 30, 40, 50]\n",
            "[0, 20, 30, 40, 50]\n"
          ],
          "name": "stdout"
        }
      ]
    },
    {
      "cell_type": "code",
      "metadata": {
        "id": "LHRsgXlNNPc1"
      },
      "source": [
        "# copia uma lista (2 formas)\n",
        "new_num = num[:]\n",
        "new_num = list(num)"
      ],
      "execution_count": 32,
      "outputs": []
    },
    {
      "cell_type": "code",
      "metadata": {
        "id": "i92XltIYgPLH"
      },
      "source": [
        "new_num[0] = 0"
      ],
      "execution_count": 44,
      "outputs": []
    },
    {
      "cell_type": "code",
      "metadata": {
        "id": "KAcg3TmSgSNX",
        "colab": {
          "base_uri": "https://localhost:8080/"
        },
        "outputId": "f497b20a-092a-48fa-b643-f0d5c526eeb2"
      },
      "source": [
        "same_num"
      ],
      "execution_count": 38,
      "outputs": [
        {
          "output_type": "execute_result",
          "data": {
            "text/plain": [
              "[0, 20, 30, 40, 50]"
            ]
          },
          "metadata": {
            "tags": []
          },
          "execution_count": 38
        }
      ]
    },
    {
      "cell_type": "code",
      "metadata": {
        "colab": {
          "base_uri": "https://localhost:8080/"
        },
        "id": "IHK0NJqvvOcK",
        "outputId": "6a7d5b4f-40b0-4b3a-bc1c-4e402c41c2bf"
      },
      "source": [
        "new_num"
      ],
      "execution_count": 37,
      "outputs": [
        {
          "output_type": "execute_result",
          "data": {
            "text/plain": [
              "[100, 20, 30, 40, 50]"
            ]
          },
          "metadata": {
            "tags": []
          },
          "execution_count": 37
        }
      ]
    },
    {
      "cell_type": "markdown",
      "metadata": {
        "id": "lLwtDZcoNPc4"
      },
      "source": [
        "**Checa objetos:**"
      ]
    },
    {
      "cell_type": "code",
      "metadata": {
        "id": "bzZWHf8NNPc4",
        "colab": {
          "base_uri": "https://localhost:8080/"
        },
        "outputId": "8d98b26d-b5ca-457c-9beb-beaeb5170f88"
      },
      "source": [
        "num is same_num    # checa se são o mesmo objeto"
      ],
      "execution_count": 39,
      "outputs": [
        {
          "output_type": "execute_result",
          "data": {
            "text/plain": [
              "True"
            ]
          },
          "metadata": {
            "tags": []
          },
          "execution_count": 39
        }
      ]
    },
    {
      "cell_type": "code",
      "metadata": {
        "id": "DkoGd0KcNPc5",
        "colab": {
          "base_uri": "https://localhost:8080/"
        },
        "outputId": "46d37860-930f-4e3e-f56b-f94f96b93988"
      },
      "source": [
        "same_num is new_num"
      ],
      "execution_count": 41,
      "outputs": [
        {
          "output_type": "execute_result",
          "data": {
            "text/plain": [
              "False"
            ]
          },
          "metadata": {
            "tags": []
          },
          "execution_count": 41
        }
      ]
    },
    {
      "cell_type": "code",
      "metadata": {
        "id": "gz0H3_5GNPc7",
        "colab": {
          "base_uri": "https://localhost:8080/"
        },
        "outputId": "0d2f62e9-b6cc-45b3-9075-269ea6bb4433"
      },
      "source": [
        "num == same_num    # checa se possuem o mesmo conteúdo"
      ],
      "execution_count": 42,
      "outputs": [
        {
          "output_type": "execute_result",
          "data": {
            "text/plain": [
              "True"
            ]
          },
          "metadata": {
            "tags": []
          },
          "execution_count": 42
        }
      ]
    },
    {
      "cell_type": "code",
      "metadata": {
        "id": "Uky-UxUyNPc8",
        "colab": {
          "base_uri": "https://localhost:8080/"
        },
        "outputId": "03441abe-ad75-4b77-fca3-2687d049b1e6"
      },
      "source": [
        "num == new_num"
      ],
      "execution_count": 45,
      "outputs": [
        {
          "output_type": "execute_result",
          "data": {
            "text/plain": [
              "True"
            ]
          },
          "metadata": {
            "tags": []
          },
          "execution_count": 45
        }
      ]
    },
    {
      "cell_type": "markdown",
      "metadata": {
        "id": "3Vftr1oRNPc9"
      },
      "source": [
        "## 7. Tuplas\n",
        "\n",
        "- **Propriedades:** ordena, itera, não muda, pode conter multiplos tipos\n",
        "- Como as listas, mas não mudam tamanho"
      ]
    },
    {
      "cell_type": "code",
      "metadata": {
        "id": "8i9O5IxCNPc9"
      },
      "source": [
        "# cria diretamente\n",
        "digits = (10, 25, 'two')"
      ],
      "execution_count": 48,
      "outputs": []
    },
    {
      "cell_type": "code",
      "metadata": {
        "id": "Q0OMiuwANPc-"
      },
      "source": [
        "# cria a partir de uma lista\n",
        "digits = tuple([0, 1, 'two'])"
      ],
      "execution_count": null,
      "outputs": []
    },
    {
      "cell_type": "markdown",
      "metadata": {
        "id": "c6fi_aYKNPc_"
      },
      "source": [
        "**Checa uma tupla:**"
      ]
    },
    {
      "cell_type": "code",
      "metadata": {
        "id": "NX1wtRkSNPc_",
        "colab": {
          "base_uri": "https://localhost:8080/",
          "height": 35
        },
        "outputId": "10fafaf2-4d48-47e0-9b13-6f6bc35168b4"
      },
      "source": [
        "digits[2]"
      ],
      "execution_count": 53,
      "outputs": [
        {
          "output_type": "execute_result",
          "data": {
            "application/vnd.google.colaboratory.intrinsic+json": {
              "type": "string"
            },
            "text/plain": [
              "'two'"
            ]
          },
          "metadata": {
            "tags": []
          },
          "execution_count": 53
        }
      ]
    },
    {
      "cell_type": "code",
      "metadata": {
        "id": "Ovzx1qWbNPdA",
        "colab": {
          "base_uri": "https://localhost:8080/",
          "height": 34
        },
        "outputId": "81fe7e9d-93cb-4eee-ba60-ead6cedbab31"
      },
      "source": [
        "len(digits)"
      ],
      "execution_count": null,
      "outputs": [
        {
          "output_type": "execute_result",
          "data": {
            "text/plain": [
              "3"
            ]
          },
          "metadata": {
            "tags": []
          },
          "execution_count": 69
        }
      ]
    },
    {
      "cell_type": "code",
      "metadata": {
        "id": "aXGQ-R3PNPdC",
        "colab": {
          "base_uri": "https://localhost:8080/"
        },
        "outputId": "5bd2f4b5-d60b-4dd6-8f2c-9587a1e8f4a1"
      },
      "source": [
        "# conta o numero de ocorrências com o valor\n",
        "digits.count(25)"
      ],
      "execution_count": 55,
      "outputs": [
        {
          "output_type": "execute_result",
          "data": {
            "text/plain": [
              "1"
            ]
          },
          "metadata": {
            "tags": []
          },
          "execution_count": 55
        }
      ]
    },
    {
      "cell_type": "code",
      "metadata": {
        "id": "KuR7oaOQNPdD",
        "colab": {
          "base_uri": "https://localhost:8080/"
        },
        "outputId": "235de398-e04e-42c5-b14f-3a8627b8847e"
      },
      "source": [
        "# rretorna o indice da primeira ocorrencia\n",
        "digits.index(25)"
      ],
      "execution_count": 56,
      "outputs": [
        {
          "output_type": "execute_result",
          "data": {
            "text/plain": [
              "1"
            ]
          },
          "metadata": {
            "tags": []
          },
          "execution_count": 56
        }
      ]
    },
    {
      "cell_type": "markdown",
      "metadata": {
        "id": "XR7mDWyiNPdG"
      },
      "source": [
        "**Modificar uma tupla:**"
      ]
    },
    {
      "cell_type": "code",
      "metadata": {
        "id": "s_wUJOfINPdG"
      },
      "source": [
        "# elementos de uma tupla não podem ser modificados\n",
        "# digits[2] = 30"
      ],
      "execution_count": 60,
      "outputs": []
    },
    {
      "cell_type": "code",
      "metadata": {
        "id": "A25V57rKNPdH",
        "colab": {
          "base_uri": "https://localhost:8080/"
        },
        "outputId": "f325482d-e52b-4e18-c3d0-b7c2f88356d1"
      },
      "source": [
        "# concatena tuplas\n",
        "digits = digits + (3, 4)\n",
        "digits"
      ],
      "execution_count": 61,
      "outputs": [
        {
          "output_type": "execute_result",
          "data": {
            "text/plain": [
              "(10, 25, 'two', 3, 4)"
            ]
          },
          "metadata": {
            "tags": []
          },
          "execution_count": 61
        }
      ]
    },
    {
      "cell_type": "markdown",
      "metadata": {
        "id": "j9Zgnbp4NPdH"
      },
      "source": [
        "**Outras operações:**"
      ]
    },
    {
      "cell_type": "code",
      "metadata": {
        "id": "jMtPhYdONPdI",
        "colab": {
          "base_uri": "https://localhost:8080/"
        },
        "outputId": "21d8d497-f9c7-4d97-c3d9-0c6f824b634d"
      },
      "source": [
        "# cria uma tupla com elementos repetidos\n",
        "(3, 40) * 10"
      ],
      "execution_count": 64,
      "outputs": [
        {
          "output_type": "execute_result",
          "data": {
            "text/plain": [
              "(3, 40, 3, 40, 3, 40, 3, 40, 3, 40, 3, 40, 3, 40, 3, 40, 3, 40, 3, 40)"
            ]
          },
          "metadata": {
            "tags": []
          },
          "execution_count": 64
        }
      ]
    },
    {
      "cell_type": "code",
      "metadata": {
        "id": "oPi_V6OHNPdK",
        "colab": {
          "base_uri": "https://localhost:8080/"
        },
        "outputId": "458c9348-87b5-4350-f34a-731eed729932"
      },
      "source": [
        "# ordena uma lista de tuplas\n",
        "tens = [(20, 60), (10, 40), (20, 30)]\n",
        "sorted(tens)    # sorts by first element in tuple, then second element"
      ],
      "execution_count": 65,
      "outputs": [
        {
          "output_type": "execute_result",
          "data": {
            "text/plain": [
              "[(10, 40), (20, 30), (20, 60)]"
            ]
          },
          "metadata": {
            "tags": []
          },
          "execution_count": 65
        }
      ]
    },
    {
      "cell_type": "code",
      "metadata": {
        "id": "7XzD89b_NPdL",
        "colab": {
          "base_uri": "https://localhost:8080/",
          "height": 68
        },
        "outputId": "00849d2d-4de8-429c-acb1-f60a71e621b7"
      },
      "source": [
        "bart = ('male', 10, 'simpson')    # cria uma tupla\n",
        "(sex, age, surname) = bart        # 3 atribuições combinadas\n",
        "print(sex)\n",
        "print(age)\n",
        "print(surname)"
      ],
      "execution_count": null,
      "outputs": [
        {
          "output_type": "stream",
          "text": [
            "male\n",
            "10\n",
            "simpson\n"
          ],
          "name": "stdout"
        }
      ]
    },
    {
      "cell_type": "markdown",
      "metadata": {
        "id": "TP8LDEY4NPdN"
      },
      "source": [
        "## 8. Strings"
      ]
    },
    {
      "cell_type": "code",
      "metadata": {
        "id": "c6RNJsCZNPdN",
        "outputId": "3ba4e679-8caf-440f-d623-eda963681988"
      },
      "source": [
        "# conversão\n",
        "s = str(42)\n",
        "s"
      ],
      "execution_count": null,
      "outputs": [
        {
          "output_type": "execute_result",
          "data": {
            "text/plain": [
              "'42'"
            ]
          },
          "metadata": {
            "tags": []
          },
          "execution_count": 94
        }
      ]
    },
    {
      "cell_type": "code",
      "metadata": {
        "id": "28WUbeCqNPdO"
      },
      "source": [
        "# cria diretamente\n",
        "s = 'I like you'"
      ],
      "execution_count": 66,
      "outputs": []
    },
    {
      "cell_type": "markdown",
      "metadata": {
        "id": "FQv_RX1wNPdP"
      },
      "source": [
        "**Checa uma string:**"
      ]
    },
    {
      "cell_type": "code",
      "metadata": {
        "id": "YaiM0vtENPdP",
        "colab": {
          "base_uri": "https://localhost:8080/",
          "height": 35
        },
        "outputId": "760e2333-a6b3-494b-e3fe-62ac54c4d762"
      },
      "source": [
        "s[0]"
      ],
      "execution_count": null,
      "outputs": [
        {
          "output_type": "execute_result",
          "data": {
            "application/vnd.google.colaboratory.intrinsic+json": {
              "type": "string"
            },
            "text/plain": [
              "'I'"
            ]
          },
          "metadata": {
            "tags": []
          },
          "execution_count": 77
        }
      ]
    },
    {
      "cell_type": "code",
      "metadata": {
        "id": "9ywtrc5ANPdQ",
        "outputId": "a0a9306e-eb3a-4adf-8e59-77088bdb8362"
      },
      "source": [
        "len(s)"
      ],
      "execution_count": null,
      "outputs": [
        {
          "output_type": "execute_result",
          "data": {
            "text/plain": [
              "10"
            ]
          },
          "metadata": {
            "tags": []
          },
          "execution_count": 97
        }
      ]
    },
    {
      "cell_type": "markdown",
      "metadata": {
        "id": "EqhSNv6xNPdR"
      },
      "source": [
        "**Quebrando String:**"
      ]
    },
    {
      "cell_type": "code",
      "metadata": {
        "id": "2zZaJxJVNPdR",
        "outputId": "6f548c41-e3fc-421c-f5ae-be62095d0fd8"
      },
      "source": [
        "s[:6]"
      ],
      "execution_count": null,
      "outputs": [
        {
          "output_type": "execute_result",
          "data": {
            "text/plain": [
              "'I like'"
            ]
          },
          "metadata": {
            "tags": []
          },
          "execution_count": 98
        }
      ]
    },
    {
      "cell_type": "code",
      "metadata": {
        "id": "a1DwyAkENPdT",
        "outputId": "58935d69-6edc-483f-c8b4-5f2d3184c5e3"
      },
      "source": [
        "s[7:]"
      ],
      "execution_count": null,
      "outputs": [
        {
          "output_type": "execute_result",
          "data": {
            "text/plain": [
              "'you'"
            ]
          },
          "metadata": {
            "tags": []
          },
          "execution_count": 99
        }
      ]
    },
    {
      "cell_type": "code",
      "metadata": {
        "id": "folNwMQ9NPdU",
        "colab": {
          "base_uri": "https://localhost:8080/",
          "height": 35
        },
        "outputId": "48642005-343b-4867-c7b7-9f045490ee77"
      },
      "source": [
        "s[-1]"
      ],
      "execution_count": 69,
      "outputs": [
        {
          "output_type": "execute_result",
          "data": {
            "application/vnd.google.colaboratory.intrinsic+json": {
              "type": "string"
            },
            "text/plain": [
              "'u'"
            ]
          },
          "metadata": {
            "tags": []
          },
          "execution_count": 69
        }
      ]
    },
    {
      "cell_type": "markdown",
      "metadata": {
        "id": "q5pGj5yJNPdV"
      },
      "source": [
        "**Operações básicas:**"
      ]
    },
    {
      "cell_type": "code",
      "metadata": {
        "id": "vj5Qy_2hNPdV",
        "outputId": "d391f5c4-2f55-4e2e-a91b-b18f1d3779ff"
      },
      "source": [
        "s.lower()"
      ],
      "execution_count": null,
      "outputs": [
        {
          "output_type": "execute_result",
          "data": {
            "text/plain": [
              "'i like you'"
            ]
          },
          "metadata": {
            "tags": []
          },
          "execution_count": 101
        }
      ]
    },
    {
      "cell_type": "code",
      "metadata": {
        "id": "ruUVa5keNPdW",
        "outputId": "d2004650-e3e9-48f3-8977-b2d949caf160"
      },
      "source": [
        "s.upper()"
      ],
      "execution_count": null,
      "outputs": [
        {
          "output_type": "execute_result",
          "data": {
            "text/plain": [
              "'I LIKE YOU'"
            ]
          },
          "metadata": {
            "tags": []
          },
          "execution_count": 102
        }
      ]
    },
    {
      "cell_type": "code",
      "metadata": {
        "id": "mQqIgBDhNPdX",
        "outputId": "ecd5da86-7563-4902-d4c4-46fa40a2db0b"
      },
      "source": [
        "s.startswith('I')"
      ],
      "execution_count": null,
      "outputs": [
        {
          "output_type": "execute_result",
          "data": {
            "text/plain": [
              "True"
            ]
          },
          "metadata": {
            "tags": []
          },
          "execution_count": 103
        }
      ]
    },
    {
      "cell_type": "code",
      "metadata": {
        "id": "9-_AuJ8iNPdY",
        "outputId": "e4c69242-44a5-4b95-a436-9400d2857fec"
      },
      "source": [
        "s.endswith('you')"
      ],
      "execution_count": null,
      "outputs": [
        {
          "output_type": "execute_result",
          "data": {
            "text/plain": [
              "True"
            ]
          },
          "metadata": {
            "tags": []
          },
          "execution_count": 104
        }
      ]
    },
    {
      "cell_type": "code",
      "metadata": {
        "id": "i3Uun1Q3NPda",
        "colab": {
          "base_uri": "https://localhost:8080/"
        },
        "outputId": "a5d4dd48-e3f3-4ac0-fdd3-a00b6ca5510d"
      },
      "source": [
        "# checa se os caracteres são digitos\n",
        "s.isdigit()"
      ],
      "execution_count": 70,
      "outputs": [
        {
          "output_type": "execute_result",
          "data": {
            "text/plain": [
              "False"
            ]
          },
          "metadata": {
            "tags": []
          },
          "execution_count": 70
        }
      ]
    },
    {
      "cell_type": "code",
      "metadata": {
        "id": "To_trH9YNPdb",
        "colab": {
          "base_uri": "https://localhost:8080/"
        },
        "outputId": "59de2ea0-e6fa-4e43-ebc9-1efc30ed2050"
      },
      "source": [
        "# retorna indice da ocorrencia\n",
        "s.find('like')"
      ],
      "execution_count": 71,
      "outputs": [
        {
          "output_type": "execute_result",
          "data": {
            "text/plain": [
              "2"
            ]
          },
          "metadata": {
            "tags": []
          },
          "execution_count": 71
        }
      ]
    },
    {
      "cell_type": "code",
      "metadata": {
        "colab": {
          "base_uri": "https://localhost:8080/",
          "height": 35
        },
        "id": "GMa__V31x7Wl",
        "outputId": "f9a87fad-8560-4478-af36-4d9f36e908c2"
      },
      "source": [
        "s"
      ],
      "execution_count": 72,
      "outputs": [
        {
          "output_type": "execute_result",
          "data": {
            "application/vnd.google.colaboratory.intrinsic+json": {
              "type": "string"
            },
            "text/plain": [
              "'I like you'"
            ]
          },
          "metadata": {
            "tags": []
          },
          "execution_count": 72
        }
      ]
    },
    {
      "cell_type": "code",
      "metadata": {
        "id": "EPL2kE1iNPdc",
        "colab": {
          "base_uri": "https://localhost:8080/"
        },
        "outputId": "8af83e85-5cc1-40d2-8812-b6da66b6d6ad"
      },
      "source": [
        "# retorna -1 quando não encontra\n",
        "s.find('hate')"
      ],
      "execution_count": 73,
      "outputs": [
        {
          "output_type": "execute_result",
          "data": {
            "text/plain": [
              "-1"
            ]
          },
          "metadata": {
            "tags": []
          },
          "execution_count": 73
        }
      ]
    },
    {
      "cell_type": "code",
      "metadata": {
        "id": "6cmtOunTNPde",
        "colab": {
          "base_uri": "https://localhost:8080/",
          "height": 35
        },
        "outputId": "d9902f89-1885-4868-ff30-6b2453f884a4"
      },
      "source": [
        "# substitui todas as ocorrencias de 'like' por 'love'\n",
        "s.replace('like', 'love')"
      ],
      "execution_count": 74,
      "outputs": [
        {
          "output_type": "execute_result",
          "data": {
            "application/vnd.google.colaboratory.intrinsic+json": {
              "type": "string"
            },
            "text/plain": [
              "'I love you'"
            ]
          },
          "metadata": {
            "tags": []
          },
          "execution_count": 74
        }
      ]
    },
    {
      "cell_type": "markdown",
      "metadata": {
        "id": "e7FGNP8LNPdf"
      },
      "source": [
        "**Dividindo uma string:**"
      ]
    },
    {
      "cell_type": "code",
      "metadata": {
        "id": "bpIHXH8kNPdf",
        "outputId": "080883a4-c827-4997-c537-e4b4d2b3058d"
      },
      "source": [
        "# Dividir uma string em uma lista com separador\n",
        "s.split(' ')"
      ],
      "execution_count": null,
      "outputs": [
        {
          "output_type": "execute_result",
          "data": {
            "text/plain": [
              "['I', 'like', 'you']"
            ]
          },
          "metadata": {
            "tags": []
          },
          "execution_count": 109
        }
      ]
    },
    {
      "cell_type": "code",
      "metadata": {
        "id": "G2tvC0D6NPdg",
        "outputId": "82cc7c8f-518a-4c1f-d1cf-9886ee73460c"
      },
      "source": [
        "# equivalente pois espaço é o padrão\n",
        "s.split()"
      ],
      "execution_count": null,
      "outputs": [
        {
          "output_type": "execute_result",
          "data": {
            "text/plain": [
              "['I', 'like', 'you']"
            ]
          },
          "metadata": {
            "tags": []
          },
          "execution_count": 110
        }
      ]
    },
    {
      "cell_type": "code",
      "metadata": {
        "id": "64j6TUlcNPdh",
        "colab": {
          "base_uri": "https://localhost:8080/"
        },
        "outputId": "ef944473-1cbd-442c-91a2-6570ae5a2475"
      },
      "source": [
        "s2 = 'a :  an : the'\n",
        "s2.split(':')"
      ],
      "execution_count": 77,
      "outputs": [
        {
          "output_type": "execute_result",
          "data": {
            "text/plain": [
              "['a ', '  an ', ' the']"
            ]
          },
          "metadata": {
            "tags": []
          },
          "execution_count": 77
        }
      ]
    },
    {
      "cell_type": "code",
      "metadata": {
        "scrolled": true,
        "id": "a5q177KxNPdi",
        "colab": {
          "base_uri": "https://localhost:8080/",
          "height": 35
        },
        "outputId": "a7a9971d-5cff-4a7e-e5e0-9137bb42d331"
      },
      "source": [
        "# concatena\n",
        "s3 = 'The meaning of life is'\n",
        "s4 = '42'\n",
        "s3 + ' ' + s4"
      ],
      "execution_count": 78,
      "outputs": [
        {
          "output_type": "execute_result",
          "data": {
            "application/vnd.google.colaboratory.intrinsic+json": {
              "type": "string"
            },
            "text/plain": [
              "'The meaning of life is 42'"
            ]
          },
          "metadata": {
            "tags": []
          },
          "execution_count": 78
        }
      ]
    },
    {
      "cell_type": "markdown",
      "metadata": {
        "id": "H06uLOChNPdj"
      },
      "source": [
        "**Remove espaços do inicio e fim:**"
      ]
    },
    {
      "cell_type": "code",
      "metadata": {
        "id": "GlneqtFjNPdj",
        "colab": {
          "base_uri": "https://localhost:8080/",
          "height": 35
        },
        "outputId": "f17edd72-b934-46c2-8b0a-0635da086767"
      },
      "source": [
        "s5 = '  ham and cheese  '\n",
        "s5.strip()"
      ],
      "execution_count": 79,
      "outputs": [
        {
          "output_type": "execute_result",
          "data": {
            "application/vnd.google.colaboratory.intrinsic+json": {
              "type": "string"
            },
            "text/plain": [
              "'ham and cheese'"
            ]
          },
          "metadata": {
            "tags": []
          },
          "execution_count": 79
        }
      ]
    },
    {
      "cell_type": "code",
      "metadata": {
        "id": "skya2EM2NPdk",
        "colab": {
          "base_uri": "https://localhost:8080/",
          "height": 35
        },
        "outputId": "11896799-362c-47fc-c5d6-97b7790a1f41"
      },
      "source": [
        "# substituições\n",
        "'raining {} and {}'.format('cats', 'dogs')"
      ],
      "execution_count": 80,
      "outputs": [
        {
          "output_type": "execute_result",
          "data": {
            "application/vnd.google.colaboratory.intrinsic+json": {
              "type": "string"
            },
            "text/plain": [
              "'raining cats and dogs'"
            ]
          },
          "metadata": {
            "tags": []
          },
          "execution_count": 80
        }
      ]
    },
    {
      "cell_type": "code",
      "metadata": {
        "scrolled": true,
        "id": "6jGkfxI5NPdl",
        "colab": {
          "base_uri": "https://localhost:8080/",
          "height": 35
        },
        "outputId": "ab8959e8-5317-4f8e-fa07-a96f94f7d6b7"
      },
      "source": [
        "# substituições 2\n",
        "'raining {arg2} and {arg1}'.format(arg1='cats', arg2='dogs')"
      ],
      "execution_count": 83,
      "outputs": [
        {
          "output_type": "execute_result",
          "data": {
            "application/vnd.google.colaboratory.intrinsic+json": {
              "type": "string"
            },
            "text/plain": [
              "'raining dogs and cats'"
            ]
          },
          "metadata": {
            "tags": []
          },
          "execution_count": 83
        }
      ]
    },
    {
      "cell_type": "code",
      "metadata": {
        "id": "c_p4PGTJNPdm",
        "colab": {
          "base_uri": "https://localhost:8080/",
          "height": 35
        },
        "outputId": "79eda860-0c44-4e4d-a60c-b29fb768737c"
      },
      "source": [
        "# formatação decimal\n",
        "'pi is {:.2f}'.format(3.14159)"
      ],
      "execution_count": 84,
      "outputs": [
        {
          "output_type": "execute_result",
          "data": {
            "application/vnd.google.colaboratory.intrinsic+json": {
              "type": "string"
            },
            "text/plain": [
              "'pi is 3.14'"
            ]
          },
          "metadata": {
            "tags": []
          },
          "execution_count": 84
        }
      ]
    },
    {
      "cell_type": "markdown",
      "metadata": {
        "id": "W3YsB3g4NPdm"
      },
      "source": [
        "## 9. Dicionários\n",
        "\n",
        "- **Propriedades:** não ordenado, itera, muda, pode contar multiplos tipos\n",
        "- Feito de pares key-value\n",
        "- Chaves devem ser únicas e podem ser strings, numeros ou tuplas"
      ]
    },
    {
      "cell_type": "code",
      "metadata": {
        "id": "eCxWoUeCNPdm"
      },
      "source": [
        "# dic. vazio\n",
        "empty_dict = {}\n",
        "empty_dict = dict()"
      ],
      "execution_count": null,
      "outputs": []
    },
    {
      "cell_type": "code",
      "metadata": {
        "id": "XsLSHDiuNPdo",
        "colab": {
          "base_uri": "https://localhost:8080/"
        },
        "outputId": "23e4e82a-29c2-4746-a48c-920feb39f424"
      },
      "source": [
        "# 2 formas de criar um dic.\n",
        "family = {'dad':'homer', 'mom':'marge', 'size':6}\n",
        "family = dict(dad='homer', mom='marge', size=6)\n",
        "family"
      ],
      "execution_count": 85,
      "outputs": [
        {
          "output_type": "execute_result",
          "data": {
            "text/plain": [
              "{'dad': 'homer', 'mom': 'marge', 'size': 6}"
            ]
          },
          "metadata": {
            "tags": []
          },
          "execution_count": 85
        }
      ]
    },
    {
      "cell_type": "code",
      "metadata": {
        "id": "sPC1fEfGNPdp",
        "colab": {
          "base_uri": "https://localhost:8080/",
          "height": 34
        },
        "outputId": "a9265427-d2e7-44f8-d306-bcad3393f9f2"
      },
      "source": [
        "# converte uma lista de tuplas em um dic.\n",
        "list_of_tuples = [('dad', 'homer'), ('mom', 'marge'), ('size', 6)]\n",
        "family = dict(list_of_tuples)\n",
        "family"
      ],
      "execution_count": null,
      "outputs": [
        {
          "output_type": "execute_result",
          "data": {
            "text/plain": [
              "{'dad': 'homer', 'mom': 'marge', 'size': 6}"
            ]
          },
          "metadata": {
            "tags": []
          },
          "execution_count": 81
        }
      ]
    },
    {
      "cell_type": "markdown",
      "metadata": {
        "id": "Ev9K99zFNPdp"
      },
      "source": [
        "**Checa um dic.:**"
      ]
    },
    {
      "cell_type": "code",
      "metadata": {
        "id": "YrKXTKAgNPdq",
        "colab": {
          "base_uri": "https://localhost:8080/"
        },
        "outputId": "da3db24e-ef2f-4a18-ae8f-163996ff50f0"
      },
      "source": [
        "# passa a chave e retorna o valor\n",
        "family['size']"
      ],
      "execution_count": 89,
      "outputs": [
        {
          "output_type": "execute_result",
          "data": {
            "text/plain": [
              "6"
            ]
          },
          "metadata": {
            "tags": []
          },
          "execution_count": 89
        }
      ]
    },
    {
      "cell_type": "code",
      "metadata": {
        "id": "-W6cIYpYNPdr",
        "outputId": "7e58b004-c3ff-4b53-daac-af3db542a649"
      },
      "source": [
        "# retorna o número de pares key-value\n",
        "len(family)"
      ],
      "execution_count": null,
      "outputs": [
        {
          "output_type": "execute_result",
          "data": {
            "text/plain": [
              "3"
            ]
          },
          "metadata": {
            "tags": []
          },
          "execution_count": 121
        }
      ]
    },
    {
      "cell_type": "code",
      "metadata": {
        "id": "P2AiUXfKNPds",
        "colab": {
          "base_uri": "https://localhost:8080/"
        },
        "outputId": "5c9c444d-6879-4986-e635-deb78755cd91"
      },
      "source": [
        "# checa se uma chave existe\n",
        "'mom' in family"
      ],
      "execution_count": 90,
      "outputs": [
        {
          "output_type": "execute_result",
          "data": {
            "text/plain": [
              "True"
            ]
          },
          "metadata": {
            "tags": []
          },
          "execution_count": 90
        }
      ]
    },
    {
      "cell_type": "code",
      "metadata": {
        "id": "RHMPNUGtNPdt",
        "colab": {
          "base_uri": "https://localhost:8080/"
        },
        "outputId": "142a2342-04e5-4682-9d9c-5db4d938efda"
      },
      "source": [
        "# valores não são checados\n",
        "'marge' in family"
      ],
      "execution_count": 91,
      "outputs": [
        {
          "output_type": "execute_result",
          "data": {
            "text/plain": [
              "False"
            ]
          },
          "metadata": {
            "tags": []
          },
          "execution_count": 91
        }
      ]
    },
    {
      "cell_type": "code",
      "metadata": {
        "id": "C1pS-FXlNPdt",
        "colab": {
          "base_uri": "https://localhost:8080/",
          "height": 34
        },
        "outputId": "71f05f9f-8129-46f4-bc34-12a5f679d18f"
      },
      "source": [
        "# retorna uma view iterable\n",
        "family.values()"
      ],
      "execution_count": null,
      "outputs": [
        {
          "output_type": "execute_result",
          "data": {
            "text/plain": [
              "dict_values(['homer', 'marge', 6])"
            ]
          },
          "metadata": {
            "tags": []
          },
          "execution_count": 83
        }
      ]
    },
    {
      "cell_type": "code",
      "metadata": {
        "id": "7fvDbE6qNPdu",
        "colab": {
          "base_uri": "https://localhost:8080/",
          "height": 34
        },
        "outputId": "e13789c9-c347-40ac-af0c-bec5506ab4e3"
      },
      "source": [
        "# retorna uma view iterable\n",
        "family.items()"
      ],
      "execution_count": null,
      "outputs": [
        {
          "output_type": "execute_result",
          "data": {
            "text/plain": [
              "dict_items([('dad', 'homer'), ('mom', 'marge'), ('size', 6)])"
            ]
          },
          "metadata": {
            "tags": []
          },
          "execution_count": 84
        }
      ]
    },
    {
      "cell_type": "markdown",
      "metadata": {
        "id": "AZ3vzlzANPdw"
      },
      "source": [
        "**Modificações:**"
      ]
    },
    {
      "cell_type": "code",
      "metadata": {
        "id": "fNfbo3KyNPdx",
        "colab": {
          "base_uri": "https://localhost:8080/"
        },
        "outputId": "3958db70-831d-4c6c-8dee-a159d8bc155a"
      },
      "source": [
        "# nova entrada\n",
        "family['cat'] = 'snowball'\n",
        "family"
      ],
      "execution_count": 92,
      "outputs": [
        {
          "output_type": "execute_result",
          "data": {
            "text/plain": [
              "{'cat': 'snowball', 'dad': 'homer', 'mom': 'marge', 'size': 6}"
            ]
          },
          "metadata": {
            "tags": []
          },
          "execution_count": 92
        }
      ]
    },
    {
      "cell_type": "code",
      "metadata": {
        "id": "8oHf4oZzNPdy",
        "outputId": "062e7813-c048-4f4b-b9be-6f27877cdd7e"
      },
      "source": [
        "# editando um item\n",
        "family['cat'] = 'snowball ii'\n",
        "family"
      ],
      "execution_count": null,
      "outputs": [
        {
          "output_type": "execute_result",
          "data": {
            "text/plain": [
              "{'cat': 'snowball ii', 'dad': 'homer', 'mom': 'marge', 'size': 6}"
            ]
          },
          "metadata": {
            "tags": []
          },
          "execution_count": 127
        }
      ]
    },
    {
      "cell_type": "code",
      "metadata": {
        "id": "NWDZU0OVNPdz",
        "colab": {
          "base_uri": "https://localhost:8080/"
        },
        "outputId": "60fd2917-bc5d-466a-bb8c-ab7696663fa9"
      },
      "source": [
        "# deletando um item\n",
        "del family['cat']\n",
        "family"
      ],
      "execution_count": 93,
      "outputs": [
        {
          "output_type": "execute_result",
          "data": {
            "text/plain": [
              "{'dad': 'homer', 'mom': 'marge', 'size': 6}"
            ]
          },
          "metadata": {
            "tags": []
          },
          "execution_count": 93
        }
      ]
    },
    {
      "cell_type": "code",
      "metadata": {
        "id": "p04m2xm_NPd0",
        "colab": {
          "base_uri": "https://localhost:8080/"
        },
        "outputId": "a9bb25e7-a55c-4763-9ae2-51a30f9a2c0b"
      },
      "source": [
        "# valores podem ser listas\n",
        "family['kids'] = ['bart', 'lisa']\n",
        "family"
      ],
      "execution_count": 95,
      "outputs": [
        {
          "output_type": "execute_result",
          "data": {
            "text/plain": [
              "{'dad': 'homer', 'kids': ['bart', 'lisa'], 'mom': 'marge', 'size': 6}"
            ]
          },
          "metadata": {
            "tags": []
          },
          "execution_count": 95
        }
      ]
    },
    {
      "cell_type": "code",
      "metadata": {
        "id": "42C0rSs_jmRv",
        "colab": {
          "base_uri": "https://localhost:8080/",
          "height": 35
        },
        "outputId": "b910e860-b6f9-49b5-cabd-06fa6ab9acb6"
      },
      "source": [
        "family['kids'][0]"
      ],
      "execution_count": 99,
      "outputs": [
        {
          "output_type": "execute_result",
          "data": {
            "application/vnd.google.colaboratory.intrinsic+json": {
              "type": "string"
            },
            "text/plain": [
              "'bart'"
            ]
          },
          "metadata": {
            "tags": []
          },
          "execution_count": 99
        }
      ]
    },
    {
      "cell_type": "code",
      "metadata": {
        "id": "TZSL0I3jNPd1",
        "colab": {
          "base_uri": "https://localhost:8080/",
          "height": 35
        },
        "outputId": "f5533ab5-c633-4adf-8894-1bf24d8a67fb"
      },
      "source": [
        "# remove um item e retorna seu valor\n",
        "family.pop('dad')"
      ],
      "execution_count": 100,
      "outputs": [
        {
          "output_type": "execute_result",
          "data": {
            "application/vnd.google.colaboratory.intrinsic+json": {
              "type": "string"
            },
            "text/plain": [
              "'homer'"
            ]
          },
          "metadata": {
            "tags": []
          },
          "execution_count": 100
        }
      ]
    },
    {
      "cell_type": "code",
      "metadata": {
        "colab": {
          "base_uri": "https://localhost:8080/"
        },
        "id": "p6_QxHtw2hzX",
        "outputId": "063365a3-e347-4ff9-9852-c552c645f82e"
      },
      "source": [
        "family"
      ],
      "execution_count": 101,
      "outputs": [
        {
          "output_type": "execute_result",
          "data": {
            "text/plain": [
              "{'kids': ['bart', 'lisa'], 'mom': 'marge', 'size': 6}"
            ]
          },
          "metadata": {
            "tags": []
          },
          "execution_count": 101
        }
      ]
    },
    {
      "cell_type": "code",
      "metadata": {
        "id": "rvMmML2hNPd2",
        "colab": {
          "base_uri": "https://localhost:8080/",
          "height": 119
        },
        "outputId": "ff4376e6-63c4-4b45-d118-fed934d0163d"
      },
      "source": [
        "# adiciona entradas multiplas\n",
        "family.update({'baby':'maggie', 'grandpa':'abe'})\n",
        "family"
      ],
      "execution_count": null,
      "outputs": [
        {
          "output_type": "execute_result",
          "data": {
            "text/plain": [
              "{'baby': 'maggie',\n",
              " 'dad': 'homer',\n",
              " 'grandpa': 'abe',\n",
              " 'kids': ['bart', 'lisa'],\n",
              " 'mom': 'marge',\n",
              " 'size': 6}"
            ]
          },
          "metadata": {
            "tags": []
          },
          "execution_count": 88
        }
      ]
    },
    {
      "cell_type": "markdown",
      "metadata": {
        "id": "F12QzTf7NPd3"
      },
      "source": [
        "**Acessando valores de forma mais segura com `get`:**"
      ]
    },
    {
      "cell_type": "code",
      "metadata": {
        "id": "2Ez-wIW4NPd3",
        "colab": {
          "base_uri": "https://localhost:8080/",
          "height": 35
        },
        "outputId": "70d12878-75fe-449d-8b4c-24afc555e2f6"
      },
      "source": [
        "family['mom']"
      ],
      "execution_count": 102,
      "outputs": [
        {
          "output_type": "execute_result",
          "data": {
            "application/vnd.google.colaboratory.intrinsic+json": {
              "type": "string"
            },
            "text/plain": [
              "'marge'"
            ]
          },
          "metadata": {
            "tags": []
          },
          "execution_count": 102
        }
      ]
    },
    {
      "cell_type": "code",
      "metadata": {
        "id": "oNdXeCa0NPd4",
        "colab": {
          "base_uri": "https://localhost:8080/",
          "height": 35
        },
        "outputId": "773385ab-219b-44bb-909c-d028ee77ba28"
      },
      "source": [
        "family.get('mom')"
      ],
      "execution_count": 103,
      "outputs": [
        {
          "output_type": "execute_result",
          "data": {
            "application/vnd.google.colaboratory.intrinsic+json": {
              "type": "string"
            },
            "text/plain": [
              "'marge'"
            ]
          },
          "metadata": {
            "tags": []
          },
          "execution_count": 103
        }
      ]
    },
    {
      "cell_type": "code",
      "metadata": {
        "id": "XYrf-JBcNPd5"
      },
      "source": [
        "# erro mais a chave não existe\n",
        "# family['grandma']"
      ],
      "execution_count": 105,
      "outputs": []
    },
    {
      "cell_type": "code",
      "metadata": {
        "id": "qts_JdkrNPd7"
      },
      "source": [
        "family.get('grandma')"
      ],
      "execution_count": 108,
      "outputs": []
    },
    {
      "cell_type": "code",
      "metadata": {
        "id": "azae0P7mNPd8",
        "colab": {
          "base_uri": "https://localhost:8080/",
          "height": 35
        },
        "outputId": "4acc138c-e63e-4534-ef4a-f07423918b53"
      },
      "source": [
        "# especifica um valor padrão para não encontrado\n",
        "family.get('grandma', 'chave não encontrada!')"
      ],
      "execution_count": 109,
      "outputs": [
        {
          "output_type": "execute_result",
          "data": {
            "application/vnd.google.colaboratory.intrinsic+json": {
              "type": "string"
            },
            "text/plain": [
              "'chave não encontrada!'"
            ]
          },
          "metadata": {
            "tags": []
          },
          "execution_count": 109
        }
      ]
    },
    {
      "cell_type": "markdown",
      "metadata": {
        "id": "-6RTmJS_NPd9"
      },
      "source": [
        "**Acesso a uma lista em um dic.:**"
      ]
    },
    {
      "cell_type": "code",
      "metadata": {
        "id": "YtMM0hUjNPd9",
        "colab": {
          "base_uri": "https://localhost:8080/"
        },
        "outputId": "4bc22734-1f70-4fef-ff10-05a1c5ee142a"
      },
      "source": [
        "family['kids']"
      ],
      "execution_count": 110,
      "outputs": [
        {
          "output_type": "execute_result",
          "data": {
            "text/plain": [
              "['bart', 'lisa']"
            ]
          },
          "metadata": {
            "tags": []
          },
          "execution_count": 110
        }
      ]
    },
    {
      "cell_type": "code",
      "metadata": {
        "id": "kXuqI98JNPd-",
        "colab": {
          "base_uri": "https://localhost:8080/"
        },
        "outputId": "d0596796-9f3a-4d53-93d6-b5e9081583c8"
      },
      "source": [
        "family['kids'].remove('lisa')\n",
        "family"
      ],
      "execution_count": 111,
      "outputs": [
        {
          "output_type": "execute_result",
          "data": {
            "text/plain": [
              "{'kids': ['bart'], 'mom': 'marge', 'size': 6}"
            ]
          },
          "metadata": {
            "tags": []
          },
          "execution_count": 111
        }
      ]
    },
    {
      "cell_type": "code",
      "metadata": {
        "colab": {
          "base_uri": "https://localhost:8080/"
        },
        "id": "BjfNx_dn3Mc-",
        "outputId": "29589129-6f6f-4030-8357-0315584722b7"
      },
      "source": [
        "family['kids']"
      ],
      "execution_count": 112,
      "outputs": [
        {
          "output_type": "execute_result",
          "data": {
            "text/plain": [
              "['bart']"
            ]
          },
          "metadata": {
            "tags": []
          },
          "execution_count": 112
        }
      ]
    },
    {
      "cell_type": "markdown",
      "metadata": {
        "id": "D9TVXQRyNPeA"
      },
      "source": [
        "## 10. Funções"
      ]
    },
    {
      "cell_type": "code",
      "metadata": {
        "id": "Vw7fA3J_NPeA"
      },
      "source": [
        "def print_text():\n",
        "    print(\"this is text\")"
      ],
      "execution_count": null,
      "outputs": []
    },
    {
      "cell_type": "code",
      "metadata": {
        "id": "DVQ84ec9NPeB",
        "colab": {
          "base_uri": "https://localhost:8080/",
          "height": 34
        },
        "outputId": "3b2dc26b-fe71-41e2-bf71-2a0220f831fa"
      },
      "source": [
        "# chama a função\n",
        "print_text()"
      ],
      "execution_count": null,
      "outputs": [
        {
          "output_type": "stream",
          "text": [
            "this is text\n"
          ],
          "name": "stdout"
        }
      ]
    },
    {
      "cell_type": "code",
      "metadata": {
        "id": "b6Y1ekoNNPeC"
      },
      "source": [
        "def print_this(x):\n",
        "    print(x)"
      ],
      "execution_count": 113,
      "outputs": []
    },
    {
      "cell_type": "code",
      "metadata": {
        "id": "xs0c6kfaNPeD",
        "colab": {
          "base_uri": "https://localhost:8080/"
        },
        "outputId": "1d6a0891-8546-4ce1-85fc-3ae61ef52104"
      },
      "source": [
        "print_this('Ola turma!')"
      ],
      "execution_count": 115,
      "outputs": [
        {
          "output_type": "stream",
          "text": [
            "Ola turma!\n"
          ],
          "name": "stdout"
        }
      ]
    },
    {
      "cell_type": "code",
      "metadata": {
        "id": "kBT1owzhNPeE"
      },
      "source": [
        "def square_this(x):\n",
        "    return x**2"
      ],
      "execution_count": 116,
      "outputs": []
    },
    {
      "cell_type": "code",
      "metadata": {
        "id": "dF4PbKesNPeF",
        "colab": {
          "base_uri": "https://localhost:8080/"
        },
        "outputId": "19605f26-f84e-4b26-a65b-d93038395068"
      },
      "source": [
        "square_this(3)"
      ],
      "execution_count": 117,
      "outputs": [
        {
          "output_type": "execute_result",
          "data": {
            "text/plain": [
              "9"
            ]
          },
          "metadata": {
            "tags": []
          },
          "execution_count": 117
        }
      ]
    },
    {
      "cell_type": "code",
      "metadata": {
        "id": "oNhdRioNNPeG"
      },
      "source": [
        "var = square_this(3)"
      ],
      "execution_count": null,
      "outputs": []
    },
    {
      "cell_type": "code",
      "metadata": {
        "id": "ysn4hd2cNPeI"
      },
      "source": [
        "def calc(a, b, op='add'):\n",
        "    if op == 'add':\n",
        "        return a + b\n",
        "    elif op == 'sub':\n",
        "        return a - b\n",
        "    else:\n",
        "        print('valid operations are add and sub')"
      ],
      "execution_count": 119,
      "outputs": []
    },
    {
      "cell_type": "code",
      "metadata": {
        "id": "1WJQlPIUNPeJ",
        "colab": {
          "base_uri": "https://localhost:8080/",
          "height": 34
        },
        "outputId": "ed183ec1-9f6d-4cac-827c-2b4467f2a029"
      },
      "source": [
        "calc(10, 4, op='add')"
      ],
      "execution_count": null,
      "outputs": [
        {
          "output_type": "execute_result",
          "data": {
            "text/plain": [
              "14"
            ]
          },
          "metadata": {
            "tags": []
          },
          "execution_count": 35
        }
      ]
    },
    {
      "cell_type": "code",
      "metadata": {
        "id": "peDGYHv1ddQ0",
        "colab": {
          "base_uri": "https://localhost:8080/",
          "height": 34
        },
        "outputId": "c3bd52b5-c794-4fd6-cb9c-3249d84e015b"
      },
      "source": [
        "calc(b=1, op='sub', a=5)"
      ],
      "execution_count": null,
      "outputs": [
        {
          "output_type": "execute_result",
          "data": {
            "text/plain": [
              "4"
            ]
          },
          "metadata": {
            "tags": []
          },
          "execution_count": 37
        }
      ]
    },
    {
      "cell_type": "code",
      "metadata": {
        "id": "Opg-fgQbNPeM",
        "colab": {
          "base_uri": "https://localhost:8080/",
          "height": 34
        },
        "outputId": "14d8ebaa-320a-4cc4-ce08-7a081615af2b"
      },
      "source": [
        "calc(10, 4, 'add')"
      ],
      "execution_count": null,
      "outputs": [
        {
          "output_type": "execute_result",
          "data": {
            "text/plain": [
              "14"
            ]
          },
          "metadata": {
            "tags": []
          },
          "execution_count": 32
        }
      ]
    },
    {
      "cell_type": "code",
      "metadata": {
        "id": "nOz4-FcLNPeN",
        "colab": {
          "base_uri": "https://localhost:8080/"
        },
        "outputId": "5caa543f-8d2e-4ca9-f8cf-91e4a986c356"
      },
      "source": [
        "calc(10, 4)"
      ],
      "execution_count": 120,
      "outputs": [
        {
          "output_type": "execute_result",
          "data": {
            "text/plain": [
              "14"
            ]
          },
          "metadata": {
            "tags": []
          },
          "execution_count": 120
        }
      ]
    },
    {
      "cell_type": "code",
      "metadata": {
        "id": "PtHDD5WdNPeO",
        "colab": {
          "base_uri": "https://localhost:8080/"
        },
        "outputId": "a4b2f23a-e45d-49ef-ae97-dfa8d401f2cb"
      },
      "source": [
        "calc(10, 4, 'sub')"
      ],
      "execution_count": 121,
      "outputs": [
        {
          "output_type": "execute_result",
          "data": {
            "text/plain": [
              "6"
            ]
          },
          "metadata": {
            "tags": []
          },
          "execution_count": 121
        }
      ]
    },
    {
      "cell_type": "code",
      "metadata": {
        "id": "8saHFkJFNPeP",
        "colab": {
          "base_uri": "https://localhost:8080/",
          "height": 34
        },
        "outputId": "e2273d71-2350-4ce5-dfed-09d6b11f69ba"
      },
      "source": [
        "calc(10, 4, 'div')"
      ],
      "execution_count": null,
      "outputs": [
        {
          "output_type": "stream",
          "text": [
            "valid operations are add and sub\n"
          ],
          "name": "stdout"
        }
      ]
    },
    {
      "cell_type": "markdown",
      "metadata": {
        "id": "L54_lLWINPeQ"
      },
      "source": [
        "**Retorna 2 valores:**"
      ]
    },
    {
      "cell_type": "code",
      "metadata": {
        "id": "Kzlz19MpNPeQ"
      },
      "source": [
        "def min_max(nums):\n",
        "    return min(nums), max(nums)"
      ],
      "execution_count": 122,
      "outputs": []
    },
    {
      "cell_type": "code",
      "metadata": {
        "id": "y9QkuK65NPeQ",
        "colab": {
          "base_uri": "https://localhost:8080/"
        },
        "outputId": "13a5c217-9f40-46aa-fd73-c2f9c2f62fe9"
      },
      "source": [
        "# valores retornados podem ser atribuidos a uma tupla\n",
        "nums = [1, 2, 3, 4, 5, 6, 7, 8]\n",
        "min_max_num = min_max(nums)\n",
        "min_max_num"
      ],
      "execution_count": 123,
      "outputs": [
        {
          "output_type": "execute_result",
          "data": {
            "text/plain": [
              "(1, 8)"
            ]
          },
          "metadata": {
            "tags": []
          },
          "execution_count": 123
        }
      ]
    },
    {
      "cell_type": "code",
      "metadata": {
        "id": "bEhRMEaONPeR",
        "colab": {
          "base_uri": "https://localhost:8080/"
        },
        "outputId": "01e0d001-8bdb-4d7c-afc1-e3ee4ef916f4"
      },
      "source": [
        "# valores retornados podem ser atribuidos a multiplas variáveis\n",
        "min_num, max_num = min_max(nums)\n",
        "print(min_num)\n",
        "print(max_num)"
      ],
      "execution_count": 124,
      "outputs": [
        {
          "output_type": "stream",
          "text": [
            "1\n",
            "8\n"
          ],
          "name": "stdout"
        }
      ]
    },
    {
      "cell_type": "markdown",
      "metadata": {
        "id": "_fAXXDsFNPeS"
      },
      "source": [
        "## 12. Funções anonimas (Lambda)"
      ]
    },
    {
      "cell_type": "code",
      "metadata": {
        "id": "_Spb_wG0NPeS"
      },
      "source": [
        "# forma tradicional\n",
        "def squared(x):\n",
        "    return x**2"
      ],
      "execution_count": null,
      "outputs": []
    },
    {
      "cell_type": "code",
      "metadata": {
        "id": "BlOvG9TTNPeS"
      },
      "source": [
        "# forma anonima\n",
        "squared = lambda x: x**2"
      ],
      "execution_count": null,
      "outputs": []
    },
    {
      "cell_type": "markdown",
      "metadata": {
        "id": "vz2R2f98NPeT"
      },
      "source": [
        "**Ordena uma lista de strings pela última letra:**"
      ]
    },
    {
      "cell_type": "code",
      "metadata": {
        "id": "KOZp2vbpNPeU",
        "colab": {
          "base_uri": "https://localhost:8080/"
        },
        "outputId": "a72b5874-f7cc-48ab-ca5f-e5f4e8e70b47"
      },
      "source": [
        "# forma tradicional\n",
        "simpsons = ['homer', 'marge', 'bart']\n",
        "\n",
        "def ultima_letra(word):\n",
        "    return word[-1]\n",
        "\n",
        "sorted(simpsons, key=ultima_letra)"
      ],
      "execution_count": 125,
      "outputs": [
        {
          "output_type": "execute_result",
          "data": {
            "text/plain": [
              "['marge', 'homer', 'bart']"
            ]
          },
          "metadata": {
            "tags": []
          },
          "execution_count": 125
        }
      ]
    },
    {
      "cell_type": "code",
      "metadata": {
        "id": "XnWBkiZl2MWE",
        "colab": {
          "base_uri": "https://localhost:8080/"
        },
        "outputId": "eccc2700-4daa-47fd-9af9-80aaa81c4e6d"
      },
      "source": [
        "t = \"Fatec\"\n",
        "print(t[-1])"
      ],
      "execution_count": 126,
      "outputs": [
        {
          "output_type": "stream",
          "text": [
            "c\n"
          ],
          "name": "stdout"
        }
      ]
    },
    {
      "cell_type": "code",
      "metadata": {
        "id": "d2rFHHy5NPeV",
        "colab": {
          "base_uri": "https://localhost:8080/"
        },
        "outputId": "c98fa9fc-1e7f-4337-9e39-05f52ed2de28"
      },
      "source": [
        "# forma anonima\n",
        "sorted(simpsons, key=lambda word: word[-1])"
      ],
      "execution_count": 127,
      "outputs": [
        {
          "output_type": "execute_result",
          "data": {
            "text/plain": [
              "['marge', 'homer', 'bart']"
            ]
          },
          "metadata": {
            "tags": []
          },
          "execution_count": 127
        }
      ]
    },
    {
      "cell_type": "markdown",
      "metadata": {
        "id": "4lycswIvNPeV"
      },
      "source": [
        "## 13. Laços"
      ]
    },
    {
      "cell_type": "code",
      "metadata": {
        "id": "Fl9ObXttNPeV",
        "colab": {
          "base_uri": "https://localhost:8080/",
          "height": 34
        },
        "outputId": "b4908552-96e7-4192-da35-3d49e7f5f936"
      },
      "source": [
        "# inclui o valor inicial mas exclui o valor de parada\n",
        "range(0, 3)"
      ],
      "execution_count": null,
      "outputs": [
        {
          "output_type": "execute_result",
          "data": {
            "text/plain": [
              "range(0, 3)"
            ]
          },
          "metadata": {
            "tags": []
          },
          "execution_count": 57
        }
      ]
    },
    {
      "cell_type": "code",
      "metadata": {
        "id": "TEUBMnHFNPeW",
        "outputId": "2c4f131f-1242-4f4d-b3ce-a8a1fe5cf295"
      },
      "source": [
        "# valor inicial padrão é 0\n",
        "range(3)"
      ],
      "execution_count": null,
      "outputs": [
        {
          "output_type": "execute_result",
          "data": {
            "text/plain": [
              "range(0, 3)"
            ]
          },
          "metadata": {
            "tags": []
          },
          "execution_count": 160
        }
      ]
    },
    {
      "cell_type": "code",
      "metadata": {
        "id": "M-5t6BPSNPeX",
        "outputId": "95a26824-73db-488e-a41f-a7e7da23f55a"
      },
      "source": [
        "# terceiro argumento é o passo\n",
        "range(0, 5, 2)"
      ],
      "execution_count": null,
      "outputs": [
        {
          "output_type": "execute_result",
          "data": {
            "text/plain": [
              "range(0, 5, 2)"
            ]
          },
          "metadata": {
            "tags": []
          },
          "execution_count": 161
        }
      ]
    },
    {
      "cell_type": "markdown",
      "metadata": {
        "id": "QLbxp54qNPeY"
      },
      "source": [
        "**`for`:**"
      ]
    },
    {
      "cell_type": "code",
      "metadata": {
        "id": "blbUEOhXNPeY",
        "colab": {
          "base_uri": "https://localhost:8080/",
          "height": 68
        },
        "outputId": "b19e7bdb-4dbb-4c62-fb0a-9a63b207f740"
      },
      "source": [
        "fruits = ['apple', 'banana', 'cherry']\n",
        "for fruit in fruits:\n",
        "    print(fruit.upper())"
      ],
      "execution_count": null,
      "outputs": [
        {
          "output_type": "stream",
          "text": [
            "APPLE\n",
            "BANANA\n",
            "CHERRY\n"
          ],
          "name": "stdout"
        }
      ]
    },
    {
      "cell_type": "code",
      "metadata": {
        "id": "CD-WBfet3KkM",
        "colab": {
          "base_uri": "https://localhost:8080/",
          "height": 34
        },
        "outputId": "60f0fe53-c9b8-4b61-e664-feab48f44072"
      },
      "source": [
        "fruits[0]"
      ],
      "execution_count": null,
      "outputs": [
        {
          "output_type": "execute_result",
          "data": {
            "text/plain": [
              "'apple'"
            ]
          },
          "metadata": {
            "tags": []
          },
          "execution_count": 25
        }
      ]
    },
    {
      "cell_type": "code",
      "metadata": {
        "id": "zv2yh8WaNPeZ",
        "outputId": "024e9ba7-55dc-4a35-9859-e2daa294905d"
      },
      "source": [
        "family = {'dad':'homer', 'mom':'marge', 'size':6}\n",
        "for key, value in family.items():\n",
        "    print(key, value)"
      ],
      "execution_count": null,
      "outputs": [
        {
          "output_type": "stream",
          "text": [
            "dad homer\n",
            "mom marge\n",
            "size 6\n"
          ],
          "name": "stdout"
        }
      ]
    },
    {
      "cell_type": "code",
      "metadata": {
        "id": "nuZItI2RNPea",
        "outputId": "4d2101b2-691a-4d60-f9e2-fc7e17670c73"
      },
      "source": [
        "# acessando o valor de indice\n",
        "for index, fruit in enumerate(fruits):\n",
        "    print(index, fruit)"
      ],
      "execution_count": null,
      "outputs": [
        {
          "output_type": "stream",
          "text": [
            "0 apple\n",
            "1 banana\n",
            "2 cherry\n"
          ],
          "name": "stdout"
        }
      ]
    },
    {
      "cell_type": "markdown",
      "metadata": {
        "id": "dCrbRgk2NPea"
      },
      "source": [
        "**`while`:**"
      ]
    },
    {
      "cell_type": "code",
      "metadata": {
        "id": "sFgt53sANPeb",
        "outputId": "d6f8031b-3d38-4a52-f942-9a4ce05b81a4"
      },
      "source": [
        "count = 0\n",
        "while count < 5:\n",
        "    print('This will print 5 times')\n",
        "    count += 1 "
      ],
      "execution_count": null,
      "outputs": [
        {
          "output_type": "stream",
          "text": [
            "This will print 5 times\n",
            "This will print 5 times\n",
            "This will print 5 times\n",
            "This will print 5 times\n",
            "This will print 5 times\n"
          ],
          "name": "stdout"
        }
      ]
    },
    {
      "cell_type": "markdown",
      "metadata": {
        "id": "UHGLAaQ1NPec"
      },
      "source": [
        "**List comprehension:**"
      ]
    },
    {
      "cell_type": "code",
      "metadata": {
        "id": "1qzwZbY_NPec",
        "colab": {
          "base_uri": "https://localhost:8080/",
          "height": 34
        },
        "outputId": "53036bd6-ee3f-4ef8-c3cf-d10d82fe6131"
      },
      "source": [
        "nums = [1, 2, 3, 4, 5]\n",
        "cubes = []\n",
        "for num in nums:\n",
        "    cubes.append(num**3)\n",
        "cubes"
      ],
      "execution_count": null,
      "outputs": [
        {
          "output_type": "execute_result",
          "data": {
            "text/plain": [
              "[1, 8, 27, 64, 125]"
            ]
          },
          "metadata": {
            "tags": []
          },
          "execution_count": 58
        }
      ]
    },
    {
      "cell_type": "code",
      "metadata": {
        "id": "98PsJ7hGNPed",
        "colab": {
          "base_uri": "https://localhost:8080/",
          "height": 34
        },
        "outputId": "90d216f9-7d23-44b5-da1d-5f7f389e545c"
      },
      "source": [
        "# equivalente com list comprehension\n",
        "cubes = [num**3 for num in nums]\n",
        "cubes"
      ],
      "execution_count": null,
      "outputs": [
        {
          "output_type": "execute_result",
          "data": {
            "text/plain": [
              "[1, 8, 27, 64, 125]"
            ]
          },
          "metadata": {
            "tags": []
          },
          "execution_count": 59
        }
      ]
    },
    {
      "cell_type": "code",
      "metadata": {
        "id": "khiHIBpqNPeg",
        "colab": {
          "base_uri": "https://localhost:8080/",
          "height": 34
        },
        "outputId": "e5189d08-0a8c-4ea4-9c91-856257b60489"
      },
      "source": [
        "cubes_and_squares = []\n",
        "for num in nums:\n",
        "    if num % 2 == 0:\n",
        "        cubes_and_squares.append(num**3)\n",
        "    else:\n",
        "        cubes_and_squares.append(num**2)\n",
        "cubes_and_squares"
      ],
      "execution_count": null,
      "outputs": [
        {
          "output_type": "execute_result",
          "data": {
            "text/plain": [
              "[1, 8, 9, 64, 25]"
            ]
          },
          "metadata": {
            "tags": []
          },
          "execution_count": 60
        }
      ]
    },
    {
      "cell_type": "code",
      "metadata": {
        "id": "du-9EHMHNPeh",
        "colab": {
          "base_uri": "https://localhost:8080/",
          "height": 34
        },
        "outputId": "fb075bb8-9a70-42c4-9903-9120a6c509e3"
      },
      "source": [
        "# equivalente list comprehension utilizando expressões ternárias\n",
        "cubes_and_squares = [num**3 if num % 2 == 0 else num**2 for num in nums]\n",
        "cubes_and_squares"
      ],
      "execution_count": null,
      "outputs": [
        {
          "output_type": "execute_result",
          "data": {
            "text/plain": [
              "[1, 8, 9, 64, 25]"
            ]
          },
          "metadata": {
            "tags": []
          },
          "execution_count": 61
        }
      ]
    },
    {
      "cell_type": "code",
      "metadata": {
        "id": "OuqrjBOyNPei",
        "outputId": "ad4fffcc-ebe7-438c-8ea1-355bb3f46e46"
      },
      "source": [
        "matrix = [[1, 2], [3, 4]]\n",
        "items = []\n",
        "for row in matrix:\n",
        "    for item in row:\n",
        "        items.append(item)\n",
        "items"
      ],
      "execution_count": null,
      "outputs": [
        {
          "output_type": "execute_result",
          "data": {
            "text/plain": [
              "[1, 2, 3, 4]"
            ]
          },
          "metadata": {
            "tags": []
          },
          "execution_count": 170
        }
      ]
    },
    {
      "cell_type": "code",
      "metadata": {
        "id": "8Dsv5M55NPek",
        "outputId": "e7d87168-ff3d-47b0-fb69-9225d124aa9a"
      },
      "source": [
        "# equivalente com list comprehension\n",
        "items = [item for row in matrix\n",
        "              for item in row]\n",
        "items"
      ],
      "execution_count": null,
      "outputs": [
        {
          "output_type": "execute_result",
          "data": {
            "text/plain": [
              "[1, 2, 3, 4]"
            ]
          },
          "metadata": {
            "tags": []
          },
          "execution_count": 171
        }
      ]
    },
    {
      "cell_type": "markdown",
      "metadata": {
        "id": "QNGzBWomNPel"
      },
      "source": [
        "**Dictionary comprehension:**"
      ]
    },
    {
      "cell_type": "code",
      "metadata": {
        "id": "1jSnC-DCNPel",
        "outputId": "756253ea-4a69-4ce3-e2b6-a826b58f8c6c"
      },
      "source": [
        "fruit_lengths = {fruit:len(fruit) for fruit in fruits}\n",
        "fruit_lengths"
      ],
      "execution_count": null,
      "outputs": [
        {
          "output_type": "execute_result",
          "data": {
            "text/plain": [
              "{'apple': 5, 'banana': 6, 'cherry': 6}"
            ]
          },
          "metadata": {
            "tags": []
          },
          "execution_count": 172
        }
      ]
    },
    {
      "cell_type": "code",
      "metadata": {
        "id": "k5zSIcTZNPen",
        "outputId": "6bbf8042-4eb0-49ff-c7e4-8d5a6f913fa7"
      },
      "source": [
        "fruit_indices = {fruit:index for index, fruit in enumerate(fruits)}\n",
        "fruit_indices"
      ],
      "execution_count": null,
      "outputs": [
        {
          "output_type": "execute_result",
          "data": {
            "text/plain": [
              "{'apple': 0, 'banana': 1, 'cherry': 2}"
            ]
          },
          "metadata": {
            "tags": []
          },
          "execution_count": 173
        }
      ]
    },
    {
      "cell_type": "markdown",
      "metadata": {
        "id": "rJ1tb6GwNPen"
      },
      "source": [
        "## 15. Map e Filter"
      ]
    },
    {
      "cell_type": "markdown",
      "metadata": {
        "id": "yMZj0IoeNPeo"
      },
      "source": [
        "**`map` aplica uma função a cada elemento de uma sequencia e retorna um iterator:**"
      ]
    },
    {
      "cell_type": "code",
      "metadata": {
        "id": "-pUbc9EvNPeo",
        "outputId": "227c0f22-5f8a-4bd1-ed89-a6b3c2942d64"
      },
      "source": [
        "simpsons = ['homer', 'marge', 'bart']\n",
        "list(map(len, simpsons))"
      ],
      "execution_count": null,
      "outputs": [
        {
          "output_type": "execute_result",
          "data": {
            "text/plain": [
              "[5, 5, 4]"
            ]
          },
          "metadata": {
            "tags": []
          },
          "execution_count": 174
        }
      ]
    },
    {
      "cell_type": "code",
      "metadata": {
        "id": "IWP0yWPVNPep",
        "outputId": "135b28ea-a91c-4a48-ccf7-4753df0c837c"
      },
      "source": [
        "# equivalente em list comprehension\n",
        "[len(word) for word in simpsons]"
      ],
      "execution_count": null,
      "outputs": [
        {
          "output_type": "execute_result",
          "data": {
            "text/plain": [
              "[5, 5, 4]"
            ]
          },
          "metadata": {
            "tags": []
          },
          "execution_count": 175
        }
      ]
    },
    {
      "cell_type": "code",
      "metadata": {
        "id": "W92vO7ZJNPer",
        "colab": {
          "base_uri": "https://localhost:8080/",
          "height": 34
        },
        "outputId": "8850bf8e-3571-465b-a28a-64316e1a6034"
      },
      "source": [
        "list(map(lambda word: word[-1], simpsons))"
      ],
      "execution_count": null,
      "outputs": [
        {
          "output_type": "execute_result",
          "data": {
            "text/plain": [
              "['r', 'e', 't']"
            ]
          },
          "metadata": {
            "tags": []
          },
          "execution_count": 62
        }
      ]
    },
    {
      "cell_type": "code",
      "metadata": {
        "id": "4A1j_hrINPes",
        "outputId": "37e31f99-91b0-46ef-d03e-e16df178b610"
      },
      "source": [
        "# equivalente em list comprehension\n",
        "[word[-1] for word in simpsons]"
      ],
      "execution_count": null,
      "outputs": [
        {
          "output_type": "execute_result",
          "data": {
            "text/plain": [
              "['r', 'e', 't']"
            ]
          },
          "metadata": {
            "tags": []
          },
          "execution_count": 177
        }
      ]
    },
    {
      "cell_type": "markdown",
      "metadata": {
        "id": "-CRcLelMNPet"
      },
      "source": [
        "**`filter` retorna um iterator contendo os elementos de uma sequencia da qual a condição é `True`:**"
      ]
    },
    {
      "cell_type": "code",
      "metadata": {
        "id": "vRktOBRbNPet",
        "outputId": "0b44b2de-b159-4687-dc8b-44b9491c8ba6"
      },
      "source": [
        "nums = range(5)\n",
        "list(nums)"
      ],
      "execution_count": null,
      "outputs": [
        {
          "output_type": "execute_result",
          "data": {
            "text/plain": [
              "[0, 1, 2, 3, 4]"
            ]
          },
          "metadata": {
            "tags": []
          },
          "execution_count": 178
        }
      ]
    },
    {
      "cell_type": "code",
      "metadata": {
        "id": "Tr91L7i0NPeu",
        "outputId": "f896ba7d-5ff1-446d-ca1d-c5dea41e257f"
      },
      "source": [
        "list(filter(lambda x: x % 2 == 0, nums))"
      ],
      "execution_count": null,
      "outputs": [
        {
          "output_type": "execute_result",
          "data": {
            "text/plain": [
              "[0, 2, 4]"
            ]
          },
          "metadata": {
            "tags": []
          },
          "execution_count": 179
        }
      ]
    },
    {
      "cell_type": "code",
      "metadata": {
        "id": "8HmFMhAxNPev",
        "outputId": "328d7842-b36b-4f17-9612-89572f30d1fc"
      },
      "source": [
        "# equivalent em list comprehension\n",
        "[num for num in nums if num % 2 == 0]"
      ],
      "execution_count": null,
      "outputs": [
        {
          "output_type": "execute_result",
          "data": {
            "text/plain": [
              "[0, 2, 4]"
            ]
          },
          "metadata": {
            "tags": []
          },
          "execution_count": 180
        }
      ]
    }
  ]
}