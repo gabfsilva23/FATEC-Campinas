{
  "nbformat": 4,
  "nbformat_minor": 0,
  "metadata": {
    "colab": {
      "name": "poo-2021-aula01.ipynb",
      "provenance": [],
      "collapsed_sections": []
    },
    "kernelspec": {
      "name": "python3",
      "display_name": "Python 3"
    }
  },
  "cells": [
    {
      "cell_type": "markdown",
      "metadata": {
        "id": "Lrv2E6uCrTE7"
      },
      "source": [
        "## POO com Python - Aula 01 e 02"
      ]
    },
    {
      "cell_type": "code",
      "metadata": {
        "colab": {
          "base_uri": "https://localhost:8080/"
        },
        "id": "tyeyM3CUjHFg",
        "outputId": "ff952287-9152-41cb-da0d-b2af75266808"
      },
      "source": [
        "a = 'F'\n",
        "print(a)\n",
        "print(type(a))"
      ],
      "execution_count": null,
      "outputs": [
        {
          "output_type": "stream",
          "text": [
            "F\n",
            "<class 'str'>\n"
          ],
          "name": "stdout"
        }
      ]
    },
    {
      "cell_type": "code",
      "metadata": {
        "colab": {
          "base_uri": "https://localhost:8080/"
        },
        "id": "2fgECicXsMMj",
        "outputId": "5c9a76aa-b273-4b47-b516-bdaad4329fb4"
      },
      "source": [
        "a = 2\n",
        "print(a)\n",
        "print(type(a))"
      ],
      "execution_count": null,
      "outputs": [
        {
          "output_type": "stream",
          "text": [
            "2\n",
            "<class 'int'>\n"
          ],
          "name": "stdout"
        }
      ]
    },
    {
      "cell_type": "code",
      "metadata": {
        "colab": {
          "base_uri": "https://localhost:8080/"
        },
        "id": "cNnhnfEGtFi5",
        "outputId": "35a1071b-b729-4a2c-dcb4-593597ac44b8"
      },
      "source": [
        "print(a)"
      ],
      "execution_count": null,
      "outputs": [
        {
          "output_type": "stream",
          "text": [
            "F\n"
          ],
          "name": "stdout"
        }
      ]
    },
    {
      "cell_type": "code",
      "metadata": {
        "id": "YMpXdBBtu895"
      },
      "source": [
        "class Porta:\n",
        "  # atributo da classe\n",
        "  cor = 'preto'\n",
        "\n",
        "  # construtor\n",
        "  def __init__(self, status, numero):\n",
        "    # atributos da instância/objeto\n",
        "    self.status = status\n",
        "    self.numero = numero\n",
        "  \n",
        "  def abrir(self):\n",
        "    self.status = 'aberta'\n",
        "\n",
        "  def fechar(self):\n",
        "    self.status = 'fechada'"
      ],
      "execution_count": null,
      "outputs": []
    },
    {
      "cell_type": "code",
      "metadata": {
        "colab": {
          "base_uri": "https://localhost:8080/"
        },
        "id": "ILhzwSeox5zV",
        "outputId": "d46d8563-d685-4d4d-d3a7-ae02ec38f545"
      },
      "source": [
        "p1 = Porta('fechada', 1000)\n",
        "print(p1.status + \" - \" + str(p1.numero) + \" - \" + p1.cor)\n",
        "\n",
        "p2 = Porta('aberta', 1001)\n",
        "print(p2.status + \" - \" + str(p2.numero) + \" - \" + p2.cor)"
      ],
      "execution_count": null,
      "outputs": [
        {
          "output_type": "stream",
          "text": [
            "fechada - 1000 - preto\n",
            "aberta - 1001 - preto\n"
          ],
          "name": "stdout"
        }
      ]
    },
    {
      "cell_type": "code",
      "metadata": {
        "id": "ADDe0LR-oLLk"
      },
      "source": [
        "Porta.cor = 'amarelo'"
      ],
      "execution_count": null,
      "outputs": []
    },
    {
      "cell_type": "code",
      "metadata": {
        "colab": {
          "base_uri": "https://localhost:8080/"
        },
        "id": "q8YOsanPoVB7",
        "outputId": "c74b3979-dad4-4ff4-9bb4-84978f71126a"
      },
      "source": [
        "print(p1.status + \" - \" + str(p1.numero) + \" - \" + p1.cor)\n",
        "print(p2.status + \" - \" + str(p2.numero) + \" - \" + p2.cor)"
      ],
      "execution_count": null,
      "outputs": [
        {
          "output_type": "stream",
          "text": [
            "fechada - 1000 - amarelo\n",
            "aberta - 1001 - amarelo\n"
          ],
          "name": "stdout"
        }
      ]
    },
    {
      "cell_type": "code",
      "metadata": {
        "colab": {
          "base_uri": "https://localhost:8080/"
        },
        "id": "wPTDB1Ib2wrc",
        "outputId": "bfe82054-3235-4a9a-ba17-4d3671993aab"
      },
      "source": [
        "print(p1.__dict__)\n",
        "print(p2.__dict__)"
      ],
      "execution_count": null,
      "outputs": [
        {
          "output_type": "stream",
          "text": [
            "{'status': 'fechada', 'numero': 1000}\n",
            "{'status': 'aberta', 'numero': 1001}\n"
          ],
          "name": "stdout"
        }
      ]
    },
    {
      "cell_type": "code",
      "metadata": {
        "colab": {
          "base_uri": "https://localhost:8080/"
        },
        "id": "Z8XysTPg6uJE",
        "outputId": "783c17f9-2dd6-416d-c4f4-5dc92d3e3642"
      },
      "source": [
        "Porta.__dict__"
      ],
      "execution_count": null,
      "outputs": [
        {
          "output_type": "execute_result",
          "data": {
            "text/plain": [
              "mappingproxy({'__dict__': <attribute '__dict__' of 'Porta' objects>,\n",
              "              '__doc__': None,\n",
              "              '__init__': <function __main__.Porta.__init__>,\n",
              "              '__module__': '__main__',\n",
              "              '__weakref__': <attribute '__weakref__' of 'Porta' objects>,\n",
              "              'abrir': <function __main__.Porta.abrir>,\n",
              "              'cor': 'amarelo',\n",
              "              'fechar': <function __main__.Porta.fechar>})"
            ]
          },
          "metadata": {
            "tags": []
          },
          "execution_count": 12
        }
      ]
    },
    {
      "cell_type": "code",
      "metadata": {
        "id": "dO848hW4pQjA"
      },
      "source": [
        "p1.cor = 'roxa'"
      ],
      "execution_count": null,
      "outputs": []
    },
    {
      "cell_type": "code",
      "metadata": {
        "colab": {
          "base_uri": "https://localhost:8080/"
        },
        "id": "iMlWU4UKp9vA",
        "outputId": "fadba568-2533-4af7-90ca-972a33cca70e"
      },
      "source": [
        "print(p1.__dict__)\n",
        "print(p2.__dict__)"
      ],
      "execution_count": null,
      "outputs": [
        {
          "output_type": "stream",
          "text": [
            "{'status': 'fechada', 'numero': 1000, 'cor': 'roxa'}\n",
            "{'status': 'aberta', 'numero': 1001}\n"
          ],
          "name": "stdout"
        }
      ]
    },
    {
      "cell_type": "code",
      "metadata": {
        "colab": {
          "base_uri": "https://localhost:8080/"
        },
        "id": "5vZH5_cIqXM3",
        "outputId": "c16dacd6-b6e2-4879-92ba-cf4358d971e3"
      },
      "source": [
        "Porta.__dict__"
      ],
      "execution_count": null,
      "outputs": [
        {
          "output_type": "execute_result",
          "data": {
            "text/plain": [
              "mappingproxy({'__dict__': <attribute '__dict__' of 'Porta' objects>,\n",
              "              '__doc__': None,\n",
              "              '__init__': <function __main__.Porta.__init__>,\n",
              "              '__module__': '__main__',\n",
              "              '__weakref__': <attribute '__weakref__' of 'Porta' objects>,\n",
              "              'abrir': <function __main__.Porta.abrir>,\n",
              "              'cor': 'amarelo',\n",
              "              'fechar': <function __main__.Porta.fechar>})"
            ]
          },
          "metadata": {
            "tags": []
          },
          "execution_count": 15
        }
      ]
    },
    {
      "cell_type": "code",
      "metadata": {
        "id": "q6Il1JsLqoOR"
      },
      "source": [
        "p1.fechadura = 'metal'"
      ],
      "execution_count": null,
      "outputs": []
    },
    {
      "cell_type": "code",
      "metadata": {
        "colab": {
          "base_uri": "https://localhost:8080/"
        },
        "id": "BJMOge5cquKh",
        "outputId": "577a0360-06b5-4170-9886-7dc3b3750773"
      },
      "source": [
        "print(p1.__dict__)\n",
        "print(p2.__dict__)"
      ],
      "execution_count": null,
      "outputs": [
        {
          "output_type": "stream",
          "text": [
            "{'status': 'fechada', 'numero': 1000, 'cor': 'roxa', 'fechadura': 'metal'}\n",
            "{'status': 'aberta', 'numero': 1001}\n"
          ],
          "name": "stdout"
        }
      ]
    },
    {
      "cell_type": "code",
      "metadata": {
        "colab": {
          "base_uri": "https://localhost:8080/"
        },
        "id": "eMo0r5C3rJYp",
        "outputId": "6f493ad5-c643-474d-f0cf-ca431aaa3742"
      },
      "source": [
        "Porta.__dict__"
      ],
      "execution_count": null,
      "outputs": [
        {
          "output_type": "execute_result",
          "data": {
            "text/plain": [
              "mappingproxy({'__dict__': <attribute '__dict__' of 'Porta' objects>,\n",
              "              '__doc__': None,\n",
              "              '__init__': <function __main__.Porta.__init__>,\n",
              "              '__module__': '__main__',\n",
              "              '__weakref__': <attribute '__weakref__' of 'Porta' objects>,\n",
              "              'abrir': <function __main__.Porta.abrir>,\n",
              "              'cor': 'amarelo',\n",
              "              'fechar': <function __main__.Porta.fechar>})"
            ]
          },
          "metadata": {
            "tags": []
          },
          "execution_count": 18
        }
      ]
    },
    {
      "cell_type": "code",
      "metadata": {
        "colab": {
          "base_uri": "https://localhost:8080/"
        },
        "id": "S4eMYzRrrPO9",
        "outputId": "b8c1262b-d96c-4cfe-87d2-8cf44c4d2a89"
      },
      "source": [
        "print(p1.cor)\n",
        "print(p2.cor)"
      ],
      "execution_count": null,
      "outputs": [
        {
          "output_type": "stream",
          "text": [
            "roxa\n",
            "amarelo\n"
          ],
          "name": "stdout"
        }
      ]
    },
    {
      "cell_type": "code",
      "metadata": {
        "colab": {
          "base_uri": "https://localhost:8080/"
        },
        "id": "tXDOHyWHrSRk",
        "outputId": "3e5bf1e9-db91-414e-9933-d02171b41247"
      },
      "source": [
        "print(p1.fechadura)\n",
        "#print(p2.fechadura) --> AttributeError"
      ],
      "execution_count": null,
      "outputs": [
        {
          "output_type": "stream",
          "text": [
            "metal\n"
          ],
          "name": "stdout"
        }
      ]
    },
    {
      "cell_type": "code",
      "metadata": {
        "id": "VnIsucKxsujd"
      },
      "source": [
        "class Porta:\n",
        "  # atributo da classe\n",
        "  cor = 'preto'\n",
        "\n",
        "  # construtor\n",
        "  def __init__(self, status, numero):\n",
        "    # atributos da instância/objeto\n",
        "    self.status = status\n",
        "    self.numero = numero\n",
        "\n",
        "  # cls faz referência à classe\n",
        "  @classmethod\n",
        "  def knock(cls):\n",
        "    print(\"Knock knock!\")\n",
        "\n",
        "  @classmethod\n",
        "  def pintar(cls, cor):\n",
        "    cls.cor = cor\n",
        "  \n",
        "  def abrir(self):\n",
        "    self.status = 'aberta'\n",
        "\n",
        "  def fechar(self):\n",
        "    self.status = 'fechada'"
      ],
      "execution_count": null,
      "outputs": []
    },
    {
      "cell_type": "code",
      "metadata": {
        "colab": {
          "base_uri": "https://localhost:8080/"
        },
        "id": "akUuOsZCtne2",
        "outputId": "24e07c56-401f-4c6f-afc4-3db4363c1965"
      },
      "source": [
        "Porta.knock()"
      ],
      "execution_count": null,
      "outputs": [
        {
          "output_type": "stream",
          "text": [
            "Knock knock!\n"
          ],
          "name": "stdout"
        }
      ]
    },
    {
      "cell_type": "code",
      "metadata": {
        "colab": {
          "base_uri": "https://localhost:8080/"
        },
        "id": "sTMmuHTBu6jU",
        "outputId": "ad679984-2454-4b16-f4b7-ea3d4b17f2d7"
      },
      "source": [
        "Porta.__dict__"
      ],
      "execution_count": null,
      "outputs": [
        {
          "output_type": "execute_result",
          "data": {
            "text/plain": [
              "mappingproxy({'__dict__': <attribute '__dict__' of 'Porta' objects>,\n",
              "              '__doc__': None,\n",
              "              '__init__': <function __main__.Porta.__init__>,\n",
              "              '__module__': '__main__',\n",
              "              '__weakref__': <attribute '__weakref__' of 'Porta' objects>,\n",
              "              'abrir': <function __main__.Porta.abrir>,\n",
              "              'cor': 'preto',\n",
              "              'fechar': <function __main__.Porta.fechar>,\n",
              "              'knock': <classmethod at 0x7f0e01ea8990>,\n",
              "              'pintar': <classmethod at 0x7f0e01ea8050>})"
            ]
          },
          "metadata": {
            "tags": []
          },
          "execution_count": 17
        }
      ]
    },
    {
      "cell_type": "code",
      "metadata": {
        "id": "5ovMFcbGvE6h"
      },
      "source": [
        "Porta.pintar('vermelho')"
      ],
      "execution_count": null,
      "outputs": []
    },
    {
      "cell_type": "code",
      "metadata": {
        "colab": {
          "base_uri": "https://localhost:8080/"
        },
        "id": "Fe0v9eXuvJrf",
        "outputId": "a8451a15-3688-4f78-b187-af01ebe1ea63"
      },
      "source": [
        "Porta.__dict__"
      ],
      "execution_count": null,
      "outputs": [
        {
          "output_type": "execute_result",
          "data": {
            "text/plain": [
              "mappingproxy({'__dict__': <attribute '__dict__' of 'Porta' objects>,\n",
              "              '__doc__': None,\n",
              "              '__init__': <function __main__.Porta.__init__>,\n",
              "              '__module__': '__main__',\n",
              "              '__weakref__': <attribute '__weakref__' of 'Porta' objects>,\n",
              "              'abrir': <function __main__.Porta.abrir>,\n",
              "              'cor': 'vermelho',\n",
              "              'fechar': <function __main__.Porta.fechar>,\n",
              "              'knock': <classmethod at 0x7f0e01ea8990>,\n",
              "              'pintar': <classmethod at 0x7f0e01ea8050>})"
            ]
          },
          "metadata": {
            "tags": []
          },
          "execution_count": 19
        }
      ]
    },
    {
      "cell_type": "code",
      "metadata": {
        "id": "kpYo_TIJvvYj"
      },
      "source": [
        "p10 = Porta('Fechada', 1000)"
      ],
      "execution_count": null,
      "outputs": []
    },
    {
      "cell_type": "code",
      "metadata": {
        "id": "Lys6TxU-v6Rv"
      },
      "source": [
        "p10.abrir()"
      ],
      "execution_count": null,
      "outputs": []
    },
    {
      "cell_type": "code",
      "metadata": {
        "colab": {
          "base_uri": "https://localhost:8080/"
        },
        "id": "yIGs4orYv8sD",
        "outputId": "fd7e2271-b41c-4539-ae17-99ec3797d3ac"
      },
      "source": [
        "print(p10.status)"
      ],
      "execution_count": null,
      "outputs": [
        {
          "output_type": "stream",
          "text": [
            "aberta\n"
          ],
          "name": "stdout"
        }
      ]
    },
    {
      "cell_type": "markdown",
      "metadata": {
        "id": "4uf77rNWwrgI"
      },
      "source": [
        "## Exercício\n",
        "\n",
        "Criar um classe chamada `Carro` com os seguintes atributos: `modelo`, `cor`, `ano`, `preco` e `total_carros` (o último deve ser um atributo de classe)\n",
        "\n",
        "Crie os métodos `set`s e `get`s para cada atributo, um construtor, um método `imprimir_carro` e um método `imprimir_total`."
      ]
    },
    {
      "cell_type": "code",
      "metadata": {
        "id": "IkJgO-FIv_NV"
      },
      "source": [
        "class Carro:\n",
        "    total_carros = 0\n",
        "\n",
        "    def __init__(self, modelo=None, cor=None, ano=None, preco=None):\n",
        "        self.modelo = modelo\n",
        "        self.cor = cor\n",
        "        self.ano = ano\n",
        "        self.preco = preco\n",
        "        self.__class__.total_carros += 1\n",
        "\n",
        "    def get_cor(self):\n",
        "        return str(self.cor)\n",
        "\n",
        "    def get_ano(self):\n",
        "        return str(self.ano)\n",
        "    \n",
        "    def get_modelo(self):\n",
        "        return str(self.modelo)  \n",
        "\n",
        "    def set_modelo(self, modelo):\n",
        "        if type(modelo) is str:\n",
        "            self.modelo = modelo\n",
        "\n",
        "    def imprimir_carro(self):\n",
        "        print('Modelo: ' + self.get_modelo())\n",
        "        print('Cor: ' + self.get_cor())\n",
        "        print('Ano: ' + self.get_ano())\n",
        "\n",
        "    @classmethod\n",
        "    def imprimir_total(cls):\n",
        "        print('Total de carros = ' + str(cls.total_carros))\n"
      ],
      "execution_count": 43,
      "outputs": []
    },
    {
      "cell_type": "code",
      "metadata": {
        "id": "wpKhprpWqaQe"
      },
      "source": [
        "c1 = Carro(modelo='Fusca', ano=1988)\n",
        "c1.set_modelo('Gol')\n",
        "\n",
        "c2 = Carro()\n",
        "c3 = Carro()\n",
        "c4 = Carro()"
      ],
      "execution_count": 44,
      "outputs": []
    },
    {
      "cell_type": "code",
      "metadata": {
        "colab": {
          "base_uri": "https://localhost:8080/"
        },
        "id": "80aw0JChqsTR",
        "outputId": "726d57f6-6d51-4523-a294-4a8d6b14047a"
      },
      "source": [
        "c1.imprimir_carro()"
      ],
      "execution_count": 45,
      "outputs": [
        {
          "output_type": "stream",
          "text": [
            "Modelo: Gol\n",
            "Cor: None\n",
            "Ano: 1988\n"
          ],
          "name": "stdout"
        }
      ]
    },
    {
      "cell_type": "code",
      "metadata": {
        "colab": {
          "base_uri": "https://localhost:8080/"
        },
        "id": "sFaW0rASvx0O",
        "outputId": "d1172ef0-3370-4241-c9e3-5762b8ef659e"
      },
      "source": [
        "Carro.imprimir_total()"
      ],
      "execution_count": 46,
      "outputs": [
        {
          "output_type": "stream",
          "text": [
            "Total de carros = 4\n"
          ],
          "name": "stdout"
        }
      ]
    },
    {
      "cell_type": "code",
      "metadata": {
        "id": "uqG9_vkIxSJZ"
      },
      "source": [
        ""
      ],
      "execution_count": null,
      "outputs": []
    }
  ]
}